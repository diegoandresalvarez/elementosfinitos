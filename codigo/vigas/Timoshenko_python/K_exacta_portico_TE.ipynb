{
 "cells": [
  {
   "cell_type": "markdown",
   "id": "d09660f0",
   "metadata": {},
   "source": [
    "# Programa para deducir la matriz de rigidez de un elemento de pórtico de Timoshenko-Ehrenfest a partir de la solución de la ecuación diferencial"
   ]
  },
  {
   "cell_type": "code",
   "execution_count": 1,
   "id": "3c3bee7f",
   "metadata": {},
   "outputs": [],
   "source": [
    "import sympy as sp\n",
    "\n",
    "# Para imprimir bonito\n",
    "sp.init_printing()\n",
    "\n",
    "from IPython.display import Math                 \n",
    "def imprimir (texto, variable, grande=False):\n",
    "    if grande:\n",
    "        return Math(texto + r'\\Large{' + rf'{sp.latex(variable)}' + '}')\n",
    "    else:\n",
    "        return Math(texto +  rf'{sp.latex(sp.simplify(variable))}')"
   ]
  },
  {
   "cell_type": "code",
   "execution_count": 2,
   "id": "71f7206b",
   "metadata": {},
   "outputs": [],
   "source": [
    "# Definción de variables\n",
    "x, xi, L, EI, beta, b, EA = sp.symbols('x xi L EI beta b EA')\n",
    "\n",
    "# Se definen las constantes de integración\n",
    "C1, C2, C3, C4, C5, C6 = sp.symbols('C_1:7')\n",
    "\n",
    "# Se define beta como beta = (12 * EI)/(L**2 * GAast)\n",
    "GAast = (12 * EI)/(L**2 * beta)\n",
    "\n",
    "# Se define la carga: hace la ecuación diferencial homogénea\n",
    "q = 0\n",
    "b = 0"
   ]
  },
  {
   "cell_type": "markdown",
   "id": "b4967e01",
   "metadata": {},
   "source": [
    "## Cálculo de la matriz de rigidez $\\boldsymbol{K}_{TE}$\n",
    "\n",
    "Recordemos que $\\beta = \\frac{12  EI}{L^2  GA^*}$ es el *factor de influencia por cortante*. En la viga de Euler-Bernoulli $\\beta = 0$.\n",
    "\n",
    "### Método 1"
   ]
  },
  {
   "cell_type": "code",
   "execution_count": 3,
   "id": "3b19496f",
   "metadata": {
    "scrolled": false
   },
   "outputs": [
    {
     "data": {
      "text/latex": [
       "$\\displaystyle K_{TE} = \\left[\\begin{matrix}\\frac{EA}{L} & 0 & 0 & - \\frac{EA}{L} & 0 & 0\\\\0 & \\frac{12 EI}{L^{3} \\left(\\beta + 1\\right)} & \\frac{6 EI}{L^{2} \\left(\\beta + 1\\right)} & 0 & - \\frac{12 EI}{L^{3} \\left(\\beta + 1\\right)} & \\frac{6 EI}{L^{2} \\left(\\beta + 1\\right)}\\\\0 & \\frac{6 EI}{L^{2} \\left(\\beta + 1\\right)} & \\frac{EI \\left(\\beta + 4\\right)}{L \\left(\\beta + 1\\right)} & 0 & - \\frac{6 EI}{L^{2} \\left(\\beta + 1\\right)} & \\frac{EI \\left(2 - \\beta\\right)}{L \\left(\\beta + 1\\right)}\\\\- \\frac{EA}{L} & 0 & 0 & \\frac{EA}{L} & 0 & 0\\\\0 & - \\frac{12 EI}{L^{3} \\left(\\beta + 1\\right)} & - \\frac{6 EI}{L^{2} \\left(\\beta + 1\\right)} & 0 & \\frac{12 EI}{L^{3} \\left(\\beta + 1\\right)} & - \\frac{6 EI}{L^{2} \\left(\\beta + 1\\right)}\\\\0 & \\frac{6 EI}{L^{2} \\left(\\beta + 1\\right)} & \\frac{EI \\left(2 - \\beta\\right)}{L \\left(\\beta + 1\\right)} & 0 & - \\frac{6 EI}{L^{2} \\left(\\beta + 1\\right)} & \\frac{EI \\left(\\beta + 4\\right)}{L \\left(\\beta + 1\\right)}\\end{matrix}\\right]$"
      ],
      "text/plain": [
       "<IPython.core.display.Math object>"
      ]
     },
     "execution_count": 3,
     "metadata": {},
     "output_type": "execute_result"
    }
   ],
   "source": [
    "# Se plantea la ecuación diferencial\n",
    "V =  sp.integrate(q, x)           + C1  # Ecuaciones calculadas con constantes.\n",
    "M =  sp.integrate(V, x)           + C2\n",
    "t =  (sp.integrate(M, x)          + C3)/EI\n",
    "w =  sp.integrate(t - V/GAast, x) + C4\n",
    "A = -sp.integrate(b, x)           + C5  # fuerza axial\n",
    "u =  sp.integrate(A/EA, x)        + C6\n",
    "\n",
    "# Se calcula la matrix de rigidez\n",
    "K_TE = sp.zeros(6)\n",
    "N_u = sp.zeros(1,6)\n",
    "N_w = sp.zeros(1,6)\n",
    "N_t = sp.zeros(1,6)\n",
    "for i in range(6):\n",
    "    sol = sp.solve([u.subs(x, 0) - int((i == 0)),\n",
    "                    w.subs(x, 0) - int((i == 1)),  # Condiciones de frontera\n",
    "                    t.subs(x, 0) - int((i == 2)),\n",
    "                    u.subs(x, L) - int((i == 3)),\n",
    "                    w.subs(x, L) - int((i == 4)),\n",
    "                    t.subs(x, L) - int((i == 5))],\n",
    "                    [C1, C2, C3, C4, C5, C6])\n",
    "\n",
    "    constantes = [(C1, sol[C1]), (C2, sol[C2]), (C3, sol[C3]), (C4, sol[C4]), (C5, sol[C5]), (C6, sol[C6])]\n",
    "    \n",
    "    sol_A  = A.subs(constantes)\n",
    "    sol_V  = V.subs(constantes)\n",
    "    sol_M  = M.subs(constantes)\n",
    "    N_u[i] = u.subs(constantes)\n",
    "    N_w[i] = w.subs(constantes)\n",
    "    N_t[i] = t.subs(constantes)\n",
    "\n",
    "    # se evaluan las reacciones horizontales y verticales y los momentos en los apoyos\n",
    "    K_TE[:, i] = [- sol_A.subs(x, 0),   # X1\n",
    "                  + sol_V.subs(x, 0),   # Y1\n",
    "                  - sol_M.subs(x, 0),   # M1\n",
    "                  + sol_A.subs(x, L),   # X2\n",
    "                  - sol_V.subs(x, L),   # Y2\n",
    "                  + sol_M.subs(x, L)]   # M2\n",
    "\n",
    "# Se convierten las funciones de forma a coordenadas naturales\n",
    "N_u = sp.simplify(N_u.subs(x, L*(1+xi)/2))\n",
    "N_w = sp.simplify(N_w.subs(x, L*(1+xi)/2))  # x = L*xi/2 + L/2\n",
    "N_t = sp.simplify(N_t.subs(x, L*(1+xi)/2))\n",
    "    \n",
    "# Se imprime la solución\n",
    "imprimir(r'K_{TE} = ', K_TE)"
   ]
  },
  {
   "cell_type": "markdown",
   "id": "3dbebf2b",
   "metadata": {},
   "source": [
    "## Cálculo de la matriz de rigidez de la teoría de Euler-Bernoulli $\\boldsymbol{K}_{EB}$\n",
    "Observe que cuando $GA^* \\to \\infty$ (o alternativamente $\\beta \\to 0$), la matriz de rigidez $\\boldsymbol{K}_{TE}$ se vuelve la misma matriz de rigidez $\\boldsymbol{K}_{EB}$ de la teoría de Euler-Bernoulli:"
   ]
  },
  {
   "cell_type": "code",
   "execution_count": 4,
   "id": "351463df",
   "metadata": {},
   "outputs": [
    {
     "data": {
      "text/latex": [
       "$\\displaystyle \\boldsymbol{K}_{EB} = \\left[\\begin{matrix}\\frac{EA}{L} & 0 & 0 & - \\frac{EA}{L} & 0 & 0\\\\0 & \\frac{12 EI}{L^{3}} & \\frac{6 EI}{L^{2}} & 0 & - \\frac{12 EI}{L^{3}} & \\frac{6 EI}{L^{2}}\\\\0 & \\frac{6 EI}{L^{2}} & \\frac{4 EI}{L} & 0 & - \\frac{6 EI}{L^{2}} & \\frac{2 EI}{L}\\\\- \\frac{EA}{L} & 0 & 0 & \\frac{EA}{L} & 0 & 0\\\\0 & - \\frac{12 EI}{L^{3}} & - \\frac{6 EI}{L^{2}} & 0 & \\frac{12 EI}{L^{3}} & - \\frac{6 EI}{L^{2}}\\\\0 & \\frac{6 EI}{L^{2}} & \\frac{2 EI}{L} & 0 & - \\frac{6 EI}{L^{2}} & \\frac{4 EI}{L}\\end{matrix}\\right]$"
      ],
      "text/plain": [
       "<IPython.core.display.Math object>"
      ]
     },
     "execution_count": 4,
     "metadata": {},
     "output_type": "execute_result"
    }
   ],
   "source": [
    "K_EB = K_TE.limit(beta, 0)\n",
    "\n",
    "# Se imprime la solución\n",
    "imprimir(r'\\boldsymbol{K}_{EB} = ', K_EB)"
   ]
  },
  {
   "cell_type": "markdown",
   "id": "0a4c20dc",
   "metadata": {},
   "source": [
    "## Se imprimen las funciones de forma \"exactas\" del EF de Timoshenko-Ehrenfest"
   ]
  },
  {
   "cell_type": "code",
   "execution_count": 17,
   "id": "fa475ebb",
   "metadata": {},
   "outputs": [
    {
     "data": {
      "text/latex": [
       "$\\displaystyle \\boldsymbol{N}_{u}(\\xi) = \\left[\\begin{matrix}\\frac{1}{2} - \\frac{\\xi}{2} & 0 & 0 & \\frac{\\xi}{2} + \\frac{1}{2} & 0 & 0\\end{matrix}\\right]$"
      ],
      "text/plain": [
       "<IPython.core.display.Math object>"
      ]
     },
     "execution_count": 17,
     "metadata": {},
     "output_type": "execute_result"
    }
   ],
   "source": [
    "imprimir(r'\\boldsymbol{N}_{u}(\\xi) = ', N_u)"
   ]
  },
  {
   "cell_type": "code",
   "execution_count": 18,
   "id": "09452455",
   "metadata": {},
   "outputs": [
    {
     "data": {
      "text/latex": [
       "$\\displaystyle \\boldsymbol{N}_{w}(\\xi) = \\left[\\begin{matrix}0 & \\frac{- 2 \\beta \\xi + 2 \\beta + \\xi^{3} - 3 \\xi + 2}{4 \\left(\\beta + 1\\right)} & \\frac{L \\left(- \\beta \\xi^{2} + \\beta + \\xi^{3} - \\xi^{2} - \\xi + 1\\right)}{8 \\left(\\beta + 1\\right)} & 0 & \\frac{\\left(\\xi + 1\\right) \\left(2 \\beta + 3 \\xi - \\left(\\xi + 1\\right)^{2} + 3\\right)}{4 \\left(\\beta + 1\\right)} & \\frac{L \\left(\\beta \\xi^{2} - \\beta + \\xi^{3} + \\xi^{2} - \\xi - 1\\right)}{8 \\left(\\beta + 1\\right)}\\end{matrix}\\right]$"
      ],
      "text/plain": [
       "<IPython.core.display.Math object>"
      ]
     },
     "execution_count": 18,
     "metadata": {},
     "output_type": "execute_result"
    }
   ],
   "source": [
    "imprimir(r'\\boldsymbol{N}_{w}(\\xi) = ', N_w)"
   ]
  },
  {
   "cell_type": "code",
   "execution_count": 19,
   "id": "4ee4a767",
   "metadata": {},
   "outputs": [
    {
     "data": {
      "text/latex": [
       "$\\displaystyle \\boldsymbol{N}_{\\theta}(\\xi) = \\left[\\begin{matrix}0 & \\frac{3 \\left(\\xi^{2} - 1\\right)}{2 L \\left(\\beta + 1\\right)} & \\frac{- 2 \\beta \\xi + 2 \\beta + 3 \\xi^{2} - 2 \\xi - 1}{4 \\left(\\beta + 1\\right)} & 0 & \\frac{3 \\cdot \\left(1 - \\xi^{2}\\right)}{2 L \\left(\\beta + 1\\right)} & \\frac{\\left(\\xi + 1\\right) \\left(2 \\beta + 3 \\xi - 1\\right)}{4 \\left(\\beta + 1\\right)}\\end{matrix}\\right]$"
      ],
      "text/plain": [
       "<IPython.core.display.Math object>"
      ]
     },
     "execution_count": 19,
     "metadata": {},
     "output_type": "execute_result"
    }
   ],
   "source": [
    "imprimir(r'\\boldsymbol{N}_{\\theta}(\\xi) = ', N_t)"
   ]
  },
  {
   "cell_type": "markdown",
   "id": "1de433e0",
   "metadata": {},
   "source": [
    "### Método 2"
   ]
  },
  {
   "cell_type": "code",
   "execution_count": 5,
   "id": "9896142c",
   "metadata": {
    "scrolled": true
   },
   "outputs": [
    {
     "data": {
      "text/latex": [
       "$\\displaystyle \\boldsymbol{K}_{TE} = \\frac{E I}{(1 + \\beta) L^3}\\left[\\begin{matrix}12 & 6 L & -12 & 6 L\\\\6 L & L^{2} \\left(\\beta + 4\\right) & - 6 L & L^{2} \\cdot \\left(2 - \\beta\\right)\\\\-12 & - 6 L & 12 & - 6 L\\\\6 L & L^{2} \\cdot \\left(2 - \\beta\\right) & - 6 L & L^{2} \\left(\\beta + 4\\right)\\end{matrix}\\right]$"
      ],
      "text/plain": [
       "<IPython.core.display.Math object>"
      ]
     },
     "execution_count": 5,
     "metadata": {},
     "output_type": "execute_result"
    }
   ],
   "source": [
    "V = sp.Function('V')(x)\n",
    "M = sp.Function('M')(x)\n",
    "t = sp.Function('theta')(x)\n",
    "w = sp.Function('w')(x)\n",
    "    \n",
    "# Se calcula la matrix de rigidez\n",
    "K_TE = sp.zeros(4)\n",
    "for i in range(4):\n",
    "    sol = sp.dsolve(eq=[  sp.diff(V,x) - 0,\n",
    "                          sp.diff(M,x) - V,\n",
    "                          sp.diff(t,x) - M/EI,\n",
    "                          sp.diff(w,x) - t + V/GAast   ],\n",
    "                    ics={ w.subs(x, 0): int((i == 0)),\n",
    "                          t.subs(x, 0): int((i == 1)),\n",
    "                          w.subs(x, L): int((i == 2)),\n",
    "                          t.subs(x, L): int((i == 3))  })\n",
    "    VV = sol[0].rhs\n",
    "    MM = sol[1].rhs\n",
    "    \n",
    "    # se evaluan las reacciones horizontales y verticales y los momentos en los apoyos\n",
    "    K_TE[:, i] = [+ VV.subs(x, 0),   # Y1 \n",
    "                  - MM.subs(x, 0),   # M1\n",
    "                  - VV.subs(x, L),   # Y2\n",
    "                  + MM.subs(x, L)]   # M2\n",
    "\n",
    "# Se imprime la solución\n",
    "tmp = EI/((1 + beta)*L**3)\n",
    "imprimir(r'\\boldsymbol{K}_{TE} = \\frac{E I}{(1 + \\beta) L^3}', K_TE/tmp)"
   ]
  },
  {
   "cell_type": "markdown",
   "id": "928ee101",
   "metadata": {},
   "source": [
    "## Cálculo del vector de fuerzas nodales equivalentes asociados a una carga trapezoidal"
   ]
  },
  {
   "cell_type": "code",
   "execution_count": 6,
   "id": "f510209a",
   "metadata": {},
   "outputs": [],
   "source": [
    "w1, w2 = sp.symbols('w_1 w_2')\n",
    "q = (w2 - w1)*x/L + w1\n",
    "\n",
    "# Se plantea la ecuación diferencial\n",
    "V = sp.integrate(q, x)           + C1  # Ecuaciones calculadas con constantes.\n",
    "M = sp.integrate(V, x)           + C2\n",
    "t = (sp.integrate(M, x)          + C3)/EI\n",
    "w = sp.integrate(t - V/GAast, x) + C4\n",
    "\n",
    "# Se calcula la matrix de rigidez\n",
    "sol = sp.solve([w.subs(x, 0),  # Condiciones de frontera\n",
    "                w.subs(x, L),\n",
    "                t.subs(x, 0),\n",
    "                t.subs(x, L)],\n",
    "                [C1, C2, C3, C4])\n",
    "\n",
    "constantes = [(C1, sol[C1]), (C2, sol[C2]), (C3, sol[C3]), (C4, sol[C4])]\n",
    "\n",
    "f_TE = sp.Matrix([-(V.subs(constantes)).subs(x, 0),   # Yi  se evaluan las reacciones verticales y los\n",
    "                  +(M.subs(constantes)).subs(x, 0),   # Mi  momentos en los apoyos y se les multiplica\n",
    "                  +(V.subs(constantes)).subs(x, L),   # Yj  por -1 para estimar la fuerza nodal \n",
    "                  -(M.subs(constantes)).subs(x, L)])  # Mj  equivalente"
   ]
  },
  {
   "cell_type": "markdown",
   "id": "38b01bd0",
   "metadata": {},
   "source": [
    "Se imprime el vector de fuerzas nodales equivalentes para la viga de Timoshenko-Ehrenfest:"
   ]
  },
  {
   "cell_type": "code",
   "execution_count": 7,
   "id": "32fddccc",
   "metadata": {},
   "outputs": [
    {
     "data": {
      "text/latex": [
       "$\\displaystyle \\boldsymbol{f}_{TE} = \\Large{\\left[\\begin{matrix}- \\frac{- 20 L \\beta w_{1} - 10 L \\beta w_{2} - 21 L w_{1} - 9 L w_{2}}{60 \\beta + 60}\\\\\\frac{5 L^{2} \\beta w_{1} + 5 L^{2} \\beta w_{2} + 6 L^{2} w_{1} + 4 L^{2} w_{2}}{120 \\beta + 120}\\\\L w_{1} + \\frac{L \\left(- w_{1} + w_{2}\\right)}{2} + \\frac{- 20 L \\beta w_{1} - 10 L \\beta w_{2} - 21 L w_{1} - 9 L w_{2}}{60 \\beta + 60}\\\\- \\frac{L^{2} w_{1}}{2} - \\frac{L^{2} \\left(- w_{1} + w_{2}\\right)}{6} - \\frac{L \\left(- 20 L \\beta w_{1} - 10 L \\beta w_{2} - 21 L w_{1} - 9 L w_{2}\\right)}{60 \\beta + 60} - \\frac{5 L^{2} \\beta w_{1} + 5 L^{2} \\beta w_{2} + 6 L^{2} w_{1} + 4 L^{2} w_{2}}{120 \\beta + 120}\\end{matrix}\\right]}$"
      ],
      "text/plain": [
       "<IPython.core.display.Math object>"
      ]
     },
     "execution_count": 7,
     "metadata": {},
     "output_type": "execute_result"
    }
   ],
   "source": [
    "imprimir(r'\\boldsymbol{f}_{TE} = ', f_TE, grande=True)\n",
    "#sp.pprint(simplify(f_TE))"
   ]
  },
  {
   "cell_type": "markdown",
   "id": "45bbae72",
   "metadata": {},
   "source": [
    "Se imprime el vector de fuerzas nodales equivalentes para la viga de Euler-Bernoulli:"
   ]
  },
  {
   "cell_type": "code",
   "execution_count": 8,
   "id": "a0b8f14a",
   "metadata": {},
   "outputs": [
    {
     "data": {
      "text/latex": [
       "$\\displaystyle \\boldsymbol{f}_{EB} = \\Large{\\left[\\begin{matrix}\\frac{7 L w_{1}}{20} + \\frac{3 L w_{2}}{20}\\\\\\frac{L^{2} w_{1}}{20} + \\frac{L^{2} w_{2}}{30}\\\\\\frac{3 L w_{1}}{20} + \\frac{7 L w_{2}}{20}\\\\- \\frac{L^{2} w_{1}}{30} - \\frac{L^{2} w_{2}}{20}\\end{matrix}\\right]}$"
      ],
      "text/plain": [
       "<IPython.core.display.Math object>"
      ]
     },
     "execution_count": 8,
     "metadata": {},
     "output_type": "execute_result"
    }
   ],
   "source": [
    "f_EB = f_TE.limit(beta,0)\n",
    "imprimir(r'\\boldsymbol{f}_{EB} = ', f_EB, grande=True)"
   ]
  },
  {
   "cell_type": "markdown",
   "id": "74bdbb0d",
   "metadata": {},
   "source": [
    "## Se calcula la matriz de masa consistente $\\boldsymbol{M}$\n",
    "\n",
    "La matriz de masa se separa en dos clases de matrices:\n",
    "\\begin{equation*}\n",
    "\\boldsymbol{M} = \\boldsymbol{M}_{\\rho A} +  \\boldsymbol{M}_{\\rho I}\n",
    "\\end{equation*}\n",
    "\n",
    "La matriz $\\boldsymbol{M}_{\\rho A}$ es la asociada a la inercia translacional\n",
    "\n",
    "La matriz $\\boldsymbol{M}_{\\rho I}$ es la asociada a la inercia rotacional. Aquí $I$ es el momento de inercia alrededor del eje de rotación, que en este caso es la fibra neutra de la viga. \n",
    "\n",
    "Ver:\n",
    "* https://en.wikipedia.org/wiki/Moment_of_inertia\n",
    "* https://en.wikipedia.org/wiki/Rotational_energy"
   ]
  },
  {
   "cell_type": "markdown",
   "id": "7edd5bb3",
   "metadata": {},
   "source": [
    "### Se calcula la matriz de masa asociada a la inercia translacional $\\boldsymbol{M}_{\\rho A}$"
   ]
  },
  {
   "cell_type": "code",
   "execution_count": 9,
   "id": "1c1431dd",
   "metadata": {
    "scrolled": false
   },
   "outputs": [
    {
     "data": {
      "text/latex": [
       "$\\displaystyle \\boldsymbol{M}_{TE,\\rho A} = \\frac{\\rho A L}{210 (1+\\beta)^2}\\left[\\begin{matrix}70 \\left(\\beta + 1\\right)^{2} & 0 & 0 & 35 \\left(\\beta + 1\\right)^{2} & 0 & 0\\\\0 & 70 \\beta^{2} + 147 \\beta + 78 & \\frac{L \\left(35 \\beta^{2} + 77 \\beta + 44\\right)}{4} & 0 & 35 \\beta^{2} + 63 \\beta + 27 & \\frac{L \\left(- 35 \\beta^{2} - 63 \\beta - 26\\right)}{4}\\\\0 & \\frac{L \\left(35 \\beta^{2} + 77 \\beta + 44\\right)}{4} & \\frac{L^{2} \\cdot \\left(7 \\beta^{2} + 14 \\beta + 8\\right)}{4} & 0 & \\frac{L \\left(35 \\beta^{2} + 63 \\beta + 26\\right)}{4} & \\frac{L^{2} \\left(- 7 \\beta^{2} - 14 \\beta - 6\\right)}{4}\\\\35 \\left(\\beta + 1\\right)^{2} & 0 & 0 & 70 \\left(\\beta + 1\\right)^{2} & 0 & 0\\\\0 & 35 \\beta^{2} + 63 \\beta + 27 & \\frac{L \\left(35 \\beta^{2} + 63 \\beta + 26\\right)}{4} & 0 & 70 \\beta^{2} + 147 \\beta + 78 & \\frac{L \\left(- 35 \\beta^{2} - 77 \\beta - 44\\right)}{4}\\\\0 & \\frac{L \\left(- 35 \\beta^{2} - 63 \\beta - 26\\right)}{4} & \\frac{L^{2} \\left(- 7 \\beta^{2} - 14 \\beta - 6\\right)}{4} & 0 & \\frac{L \\left(- 35 \\beta^{2} - 77 \\beta - 44\\right)}{4} & \\frac{L^{2} \\cdot \\left(7 \\beta^{2} + 14 \\beta + 8\\right)}{4}\\end{matrix}\\right]$"
      ],
      "text/plain": [
       "<IPython.core.display.Math object>"
      ]
     },
     "execution_count": 9,
     "metadata": {},
     "output_type": "execute_result"
    }
   ],
   "source": [
    "rho, A = sp.symbols('rho A')\n",
    "N = sp.Matrix.vstack(N_u, N_w)\n",
    "M_TE_rhoA = sp.integrate(rho*A*N.T*N * L/2, (xi, -1, 1))\n",
    "\n",
    "tmp = rho*A*L/(210 * (1 + beta)**2)\n",
    "imprimir(r'\\boldsymbol{M}_{TE,\\rho A} = \\frac{\\rho A L}{210 (1+\\beta)^2}', M_TE_rhoA/tmp)"
   ]
  },
  {
   "cell_type": "code",
   "execution_count": 10,
   "id": "7cc8e929",
   "metadata": {},
   "outputs": [
    {
     "data": {
      "text/latex": [
       "$\\displaystyle \\boldsymbol{M}_{EB,\\rho A} = \\frac{\\rho A L}{420}\\left[\\begin{matrix}140 & 0 & 0 & 70 & 0 & 0\\\\0 & 156 & 22 L & 0 & 54 & - 13 L\\\\0 & 22 L & 4 L^{2} & 0 & 13 L & - 3 L^{2}\\\\70 & 0 & 0 & 140 & 0 & 0\\\\0 & 54 & 13 L & 0 & 156 & - 22 L\\\\0 & - 13 L & - 3 L^{2} & 0 & - 22 L & 4 L^{2}\\end{matrix}\\right]$"
      ],
      "text/plain": [
       "<IPython.core.display.Math object>"
      ]
     },
     "execution_count": 10,
     "metadata": {},
     "output_type": "execute_result"
    }
   ],
   "source": [
    "M_EB_rhoA = M_TE_rhoA.limit(beta, 0)\n",
    "tmp = rho*A*L/420\n",
    "imprimir(r'\\boldsymbol{M}_{EB,\\rho A} = \\frac{\\rho A L}{420}', M_EB_rhoA/tmp)"
   ]
  },
  {
   "cell_type": "markdown",
   "id": "aab9ae10",
   "metadata": {},
   "source": [
    "### Se calcula la matriz de masa asociada a la inercia rotacional $\\boldsymbol{M}_{\\rho I}$"
   ]
  },
  {
   "cell_type": "code",
   "execution_count": 11,
   "id": "84b357a9",
   "metadata": {},
   "outputs": [
    {
     "data": {
      "text/latex": [
       "$\\displaystyle \\boldsymbol{M}_{TE,\\rho I} = \\frac{\\rho I}{30 (1+\\beta)^2 L}\\left[\\begin{matrix}0 & 0 & 0 & 0 & 0 & 0\\\\0 & 36 & 3 L \\left(1 - 5 \\beta\\right) & 0 & -36 & 3 L \\left(1 - 5 \\beta\\right)\\\\0 & 3 L \\left(1 - 5 \\beta\\right) & L^{2} \\cdot \\left(10 \\beta^{2} + 5 \\beta + 4\\right) & 0 & 3 L \\left(5 \\beta - 1\\right) & L^{2} \\cdot \\left(5 \\beta^{2} - 5 \\beta - 1\\right)\\\\0 & 0 & 0 & 0 & 0 & 0\\\\0 & -36 & 3 L \\left(5 \\beta - 1\\right) & 0 & 36 & 3 L \\left(5 \\beta - 1\\right)\\\\0 & 3 L \\left(1 - 5 \\beta\\right) & L^{2} \\cdot \\left(5 \\beta^{2} - 5 \\beta - 1\\right) & 0 & 3 L \\left(5 \\beta - 1\\right) & L^{2} \\cdot \\left(10 \\beta^{2} + 5 \\beta + 4\\right)\\end{matrix}\\right]$"
      ],
      "text/plain": [
       "<IPython.core.display.Math object>"
      ]
     },
     "execution_count": 11,
     "metadata": {},
     "output_type": "execute_result"
    }
   ],
   "source": [
    "rho, I = sp.symbols('rho I')\n",
    "N = sp.Matrix.vstack(N_t)\n",
    "M_TE_rhoI = sp.integrate(rho*I*N.T*N * L/2, (xi, -1, 1))\n",
    "\n",
    "tmp = rho*I/(30*L*(1 + beta)**2)\n",
    "imprimir(r'\\boldsymbol{M}_{TE,\\rho I} = \\frac{\\rho I}{30 (1+\\beta)^2 L}', M_TE_rhoI/tmp)"
   ]
  },
  {
   "cell_type": "markdown",
   "id": "67621047",
   "metadata": {},
   "source": [
    "Es importante anotar que la matriz de inercia rotacional $\\boldsymbol{M}_{EB,\\rho I}$ usualmente se desprecia en la teoría de Euler-Bernoulli:"
   ]
  },
  {
   "cell_type": "code",
   "execution_count": 12,
   "id": "91fbe44e",
   "metadata": {},
   "outputs": [
    {
     "data": {
      "text/latex": [
       "$\\displaystyle \\boldsymbol{M}_{EB,\\rho I} = \\frac{\\rho I}{30 L}\\left[\\begin{matrix}0 & 0 & 0 & 0 & 0 & 0\\\\0 & 36 & 3 L & 0 & -36 & 3 L\\\\0 & 3 L & 4 L^{2} & 0 & - 3 L & - L^{2}\\\\0 & 0 & 0 & 0 & 0 & 0\\\\0 & -36 & - 3 L & 0 & 36 & - 3 L\\\\0 & 3 L & - L^{2} & 0 & - 3 L & 4 L^{2}\\end{matrix}\\right]$"
      ],
      "text/plain": [
       "<IPython.core.display.Math object>"
      ]
     },
     "execution_count": 12,
     "metadata": {},
     "output_type": "execute_result"
    }
   ],
   "source": [
    "M_EB_rhoI = M_TE_rhoI.limit(beta, 0)\n",
    "tmp = rho*I/(30*L)\n",
    "imprimir(r'\\boldsymbol{M}_{EB,\\rho I} = \\frac{\\rho I}{30 L}', M_EB_rhoI/tmp)"
   ]
  }
 ],
 "metadata": {
  "kernelspec": {
   "display_name": "Python 3 (ipykernel)",
   "language": "python",
   "name": "python3"
  },
  "language_info": {
   "codemirror_mode": {
    "name": "ipython",
    "version": 3
   },
   "file_extension": ".py",
   "mimetype": "text/x-python",
   "name": "python",
   "nbconvert_exporter": "python",
   "pygments_lexer": "ipython3",
   "version": "3.10.4"
  }
 },
 "nbformat": 4,
 "nbformat_minor": 5
}
