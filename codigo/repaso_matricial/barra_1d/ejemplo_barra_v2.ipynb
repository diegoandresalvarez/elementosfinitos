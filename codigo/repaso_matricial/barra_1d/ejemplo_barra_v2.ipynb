{
 "cells": [
  {
   "cell_type": "markdown",
   "id": "57b0db07-cd58-4da4-b897-83b1a47c2e14",
   "metadata": {},
   "source": [
    "# Solución de la ecuación $\\boldsymbol{q} = \\boldsymbol{K}\\boldsymbol{a} - \\boldsymbol{f}$ mediante ensamblaje matricial."
   ]
  },
  {
   "cell_type": "markdown",
   "id": "3994a24a-8c7e-4241-be43-9bfb24c4cada",
   "metadata": {},
   "source": [
    "| Nombre | Correo | Fecha |\n",
    "| --- | --- | --- |\n",
    "| Andrés Cardona Serna | acardonase@unal.edu.co | 25 de agosto de 2023 |"
   ]
  },
  {
   "cell_type": "markdown",
   "id": "ea943809-40f3-48c6-b33e-9bf15ef245d9",
   "metadata": {},
   "source": [
    "## 1. Problema"
   ]
  },
  {
   "cell_type": "markdown",
   "id": "77cc6401-3208-40cb-b434-52ed130ba6cc",
   "metadata": {},
   "source": [
    "Considere la siguiente estructura unidimensional de tres barras:"
   ]
  },
  {
   "cell_type": "markdown",
   "id": "85f3c2d6-0cfa-4143-b623-860dbbc4d8c3",
   "metadata": {},
   "source": [
    "<img src=\"Tres_Barras_1D.jpeg\"/>"
   ]
  },
  {
   "cell_type": "markdown",
   "id": "cfe4a2f0-b02e-4f07-8b92-9b84a18ce8d0",
   "metadata": {},
   "source": [
    "Cada una de las barras tiene dos nodos (con un grado de libertad cada uno) para un total de 4 g.d.l., la misma área transversal $A$ y el mismo módulo de elasticidad $E$."
   ]
  },
  {
   "cell_type": "markdown",
   "id": "f02ee658-2227-4afc-ae90-ec35255513cb",
   "metadata": {},
   "source": [
    "A continuación se hallarán, mediante ensamblaje matricial:\n",
    "- La matriz de rigidez global $\\boldsymbol{K}$ de la estructura.\n",
    "- El vector de fuerzas nodales equivalentes global $\\boldsymbol{f}$.\n",
    "  \n",
    "Luego se planteará el sistema de ecuaciones $\\boldsymbol{q} = \\boldsymbol{K}\\boldsymbol{a} - \\boldsymbol{f}$, para resolverlo, y encontrar:\n",
    "- El vector de desplazamientos nodales desconocidos $\\boldsymbol{a}_d$\n",
    "- El vector de fuerzas nodales de equilibrio desconocidas $\\boldsymbol{q}_d$.\n",
    "  \n",
    "Para finalmente volver a ensamblar y obtener:\n",
    "- El vector de desplazamientos nodales global $\\boldsymbol{a}$.\n",
    "- El vector de fuerzas nodales de equilibrio $\\boldsymbol{q}$.\n",
    "  \n",
    "Y adicionalmente, se encontrará la fuerza axial $f_{ax}$ de cada barra.\n",
    "\n",
    "Nota: Ejecute cada celda en orden desde la primera hasta la última, o de lo contrario, el códigos podría calcular resultados erróneos."
   ]
  },
  {
   "cell_type": "markdown",
   "id": "465e90df-b96c-4f76-8f5b-da779f49e87c",
   "metadata": {},
   "source": [
    "---"
   ]
  },
  {
   "cell_type": "code",
   "execution_count": 1,
   "id": "6d321c38-2e7d-4566-8080-a21a001494ba",
   "metadata": {},
   "outputs": [],
   "source": [
    "import numpy as np    # Librería de cálculo simbólico\n",
    "import sympy as sp    # Librería de cálculo numérico\n",
    "\n",
    "# Para imprimir bonito\n",
    "sp.init_printing()\n",
    "from IPython.display import Math\n",
    "def imprimir (texto1, variable, texto2=\"\"):\n",
    "    return Math(texto1 +  rf'{sp.latex(variable)}' + texto2)"
   ]
  },
  {
   "cell_type": "code",
   "execution_count": 2,
   "id": "9da73e80-1f23-4580-9f15-2ad8c8fee675",
   "metadata": {},
   "outputs": [],
   "source": [
    "# Ya que en Python el conteo comienza desde 0, se definen variables que hacen más legible el código\n",
    "NL1 = 0               # en referencia al nodo local 1\n",
    "NL2 = 1               # en referencia al nodo local 2"
   ]
  },
  {
   "cell_type": "markdown",
   "id": "4aff826f-36c1-4d7b-9e38-d7d113ce0eea",
   "metadata": {},
   "source": [
    "---"
   ]
  },
  {
   "cell_type": "markdown",
   "id": "628f96cf-cb1b-4146-8c6b-2aff7dbc745d",
   "metadata": {},
   "source": [
    "## 2. Ensamblaje de $\\boldsymbol{f}$ y $\\boldsymbol{K}$."
   ]
  },
  {
   "cell_type": "markdown",
   "id": "a5d7b765-77a5-4d45-bf79-5c5e0a8d4a8e",
   "metadata": {},
   "source": [
    "### 2.1. Funciones para el ensamblaje."
   ]
  },
  {
   "cell_type": "markdown",
   "id": "b52300b9-9842-4f34-8dcb-be7b73396999",
   "metadata": {},
   "source": [
    "Se definen dos funciones que se utilizarán más adelante: una para ensamblar la matriz de rigidez global $\\boldsymbol{K}$ y otra para ensamblar el vector de fuerzas nodales equivalentes global $\\boldsymbol{f}$. A continuación se explica de manera muy general, pero más adelante se verán ejemplos que aclaran el uso de estas funciones."
   ]
  },
  {
   "cell_type": "markdown",
   "id": "8e3f5035-5505-4861-9027-67c3d0c7ddf3",
   "metadata": {},
   "source": [
    "- La función `ensamblar_mat` ensambla la matriz de rigidez local de la barra $e$ $(\\boldsymbol{K}^{(e)})$ en la matriz de rigidez global   $(\\boldsymbol{K})$.  \n",
    "  Se invoca mediante el comando `ensamblar_mat(K, idx, Ke)`, y sus parámetros de entrada son:\n",
    "    - `K` : Matriz de rigidez global $(\\boldsymbol{K})$.\n",
    "    - `idx` : Vector fila con los g.d.l. donde se debe realizar el ensamblaje.\n",
    "    - `Ke` : Matriz de rigidez local de la barra $e$, que se va a ensamblar $(\\boldsymbol{K}^{(e)})$."
   ]
  },
  {
   "cell_type": "code",
   "execution_count": 3,
   "id": "65f82f2a-8aa5-44b4-9745-52d02ec41c0f",
   "metadata": {},
   "outputs": [],
   "source": [
    "def ensamblar_mat(K, idx, Ke):                 \n",
    "\n",
    "    # Se verifica que la matriz global K sea cuadrada\n",
    "    nfil, ncol = K.shape                                            # Dada K de tamaño nxm, K.shape es la tupla (n,m), por lo que nfil=n y ncol=m.\n",
    "    assert nfil == ncol,\\\n",
    "       \"La matriz de rigidez global K debe ser cuadrada\"       \n",
    "                                                                    # Si nfil = ncol, K es cuadrada. Se arroja un error en caso contrario.\n",
    "\n",
    "    \n",
    "\n",
    "    # Se verifica que la matriz local Ke sea cuadrada y con el mismo número de filas que idx\n",
    "    nfil, ncol = Ke.shape             \n",
    "    assert nfil == ncol == len(idx),\\\n",
    "       \"Ke debe ser cuadrada y debe tener el mismo número de filas que idx\"\n",
    "                                                   # Si el vector idx contiene m grados de libertad, Ke debe ser de tamaño mxm. Error en caso contrario.\n",
    "\n",
    "\n",
    "    \n",
    "    # Se procede con el ensamblaje               # Si la matriz Ke es de tamaño mxm:\n",
    "    for i in range(nfil):                        # Se ejecuta una iteración para cada una de las m filas de Ke\n",
    "        for j in range(ncol):                    # Se ejecuta una iteración para cada una de las m columnas de Ke. El ciclo anidado itera m*m veces.\n",
    "            K[idx[i], idx[j]] += Ke[i,j]               # Se ensamblan en la matriz global K los elementos de la matriz local Ke."
   ]
  },
  {
   "cell_type": "markdown",
   "id": "75493b36-7d02-4d66-9fd9-859bb3e8262c",
   "metadata": {},
   "source": [
    "- La función `ensamblar_vec` extrae las fuerzas nodales equivalentes de las barras y las ensambla en el vector de fuerzas nodales equivalentes global $\\boldsymbol{f}$.\n",
    "    Se invoca mediante el comando `ensamblar_vec(v, idx, ve)`, donde:\n",
    "    - `v` : Vector global.\n",
    "    - `idx` : Vector fila con los g.d.l. en que se debe realizar el ensamblaje.\n",
    "    - `ve` : Vector local que se va a ensamblar."
   ]
  },
  {
   "cell_type": "code",
   "execution_count": 4,
   "id": "87e86f77-c82f-45ad-8d8f-66915e91f3b3",
   "metadata": {},
   "outputs": [],
   "source": [
    "# Para ensamblar vector f\n",
    "def ensamblar_vec(v, idx, ve):\n",
    "\n",
    "    # Se verifica que v sea un vector columna\n",
    "    nfil, ncol = v.shape\n",
    "    assert ncol == 1, \"v debe ser un vector columna\"           \n",
    "                                                # El número de columnas de v debe ser igual a 1. Error en caso contrario.\n",
    "    \n",
    "\n",
    "    \n",
    "    # Se verifica que el ve sea vector columna y que tenga el mismo número de elementos que idx\n",
    "    nfil, ncol = ve.shape\n",
    "    assert ncol == 1 and nfil == len(idx),\\\n",
    "            \"ve debe ser vector columna y debe tener el mismo número de elementos que idx\"\n",
    "                                                # Si el vector idx contiene m grados de libertad, ve debe tener m elementos. Error en caso contrario.\n",
    "\n",
    "    \n",
    "    \n",
    "    # se procede con el ensamblaje              # Si el vector ve es de tamaño mx1:\n",
    "    for i in range(nfil):                       # Se ejecuta una iteración para cada una de las m filas de ve.\n",
    "        f[idx[i]] += ve[i]                # Se ensamblan en el vector global v los elementos del vector local ve."
   ]
  },
  {
   "cell_type": "markdown",
   "id": "ffa750fa-ed15-4dd8-ab6b-707b2b891c1d",
   "metadata": {},
   "source": [
    "---"
   ]
  },
  {
   "cell_type": "markdown",
   "id": "bf1c3de0-38e2-489c-a492-af0f00a3cc5a",
   "metadata": {},
   "source": [
    "### 2.2. Definición de variables y datos."
   ]
  },
  {
   "cell_type": "markdown",
   "id": "4de3ebb4-d17f-4d5f-8598-f5e6db06da55",
   "metadata": {},
   "source": [
    "- Se definen las variables simbólicas necesarias:  \n",
    "  - Carga distribuida constante $b$.  \n",
    "  - Módulo de elasticidad $E$.  \n",
    "  - Área transversal $A$.  \n",
    "  - Longitud $L$.   \n",
    "  - Carga puntual aplicada $P$.  "
   ]
  },
  {
   "cell_type": "code",
   "execution_count": 5,
   "id": "f28b5c85-1728-4f7e-b7dc-ec1f184f2302",
   "metadata": {},
   "outputs": [],
   "source": [
    "b, E, A, L, P = sp.symbols('b E A L P')         # define las variables simbólicas"
   ]
  },
  {
   "cell_type": "markdown",
   "id": "07a20357-abc5-473c-8774-e7895a4ea16f",
   "metadata": {},
   "source": [
    "- Se define la matriz LaG (local a global). Contiene la numeración global de cada nodo, según su numeración local y la barra en que se encuentre:\n",
    "<center><img src=\"Matriz_LaG.jpeg\" style=\"height: 117px; width:294px;\"/></center>"
   ]
  },
  {
   "cell_type": "code",
   "execution_count": 6,
   "id": "9e04f551-63ae-477f-8363-9c3488d7e521",
   "metadata": {},
   "outputs": [],
   "source": [
    "# Se le resta 1 a la matriz, pues el conteo en Python comienza desde 0. Esto le restará 1 a cada componente de la matriz.\n",
    "\n",
    "              # NL1, NL2\n",
    "LaG = np.array([[ 1, 3 ],            # Barra 1\n",
    "                [ 2, 3 ],            # Barra 2\n",
    "                [ 3, 4 ]]) - 1       # Barra 3"
   ]
  },
  {
   "cell_type": "markdown",
   "id": "bac689d7-2101-4354-9ead-0c31f9829033",
   "metadata": {},
   "source": [
    "- Se definen las longitudes $L^{(e)}$ para cada barra:"
   ]
  },
  {
   "cell_type": "code",
   "execution_count": 7,
   "id": "a7f5b2df-71bd-469d-95a3-33e628652844",
   "metadata": {},
   "outputs": [],
   "source": [
    "#  e =  1,  2,  3\n",
    "long = [L,  L,  L/2]          # Lista con la longitud de cada barra"
   ]
  },
  {
   "cell_type": "code",
   "execution_count": 8,
   "id": "c0e269d4-4d60-4358-9c99-593b930dc039",
   "metadata": {},
   "outputs": [
    {
     "data": {
      "text/latex": [
       "$\\displaystyle  L^{(1)} = L$"
      ],
      "text/plain": [
       "<IPython.core.display.Math object>"
      ]
     },
     "execution_count": 8,
     "metadata": {},
     "output_type": "execute_result"
    }
   ],
   "source": [
    "imprimir(r\" L^{(1)} = \", long[1-1])"
   ]
  },
  {
   "cell_type": "code",
   "execution_count": 9,
   "id": "fe67f24a-a294-4f50-a01d-5c5a2df4a323",
   "metadata": {},
   "outputs": [
    {
     "data": {
      "text/latex": [
       "$\\displaystyle  L^{(2)} = L$"
      ],
      "text/plain": [
       "<IPython.core.display.Math object>"
      ]
     },
     "execution_count": 9,
     "metadata": {},
     "output_type": "execute_result"
    }
   ],
   "source": [
    "imprimir(r\" L^{(2)} = \", long[2-1])"
   ]
  },
  {
   "cell_type": "code",
   "execution_count": 10,
   "id": "5dbea236-547d-4a64-8f07-2385e5820362",
   "metadata": {},
   "outputs": [
    {
     "data": {
      "text/latex": [
       "$\\displaystyle  L^{(3)} = \\frac{L}{2}$"
      ],
      "text/plain": [
       "<IPython.core.display.Math object>"
      ]
     },
     "execution_count": 10,
     "metadata": {},
     "output_type": "execute_result"
    }
   ],
   "source": [
    "imprimir(r\" L^{(3)} = \", long[3-1])"
   ]
  },
  {
   "cell_type": "markdown",
   "id": "4e43cecc-1ff5-467e-a6a9-7978eac35a02",
   "metadata": {},
   "source": [
    "---"
   ]
  },
  {
   "cell_type": "markdown",
   "id": "927eba22-de8a-42ba-b336-3378574ba770",
   "metadata": {},
   "source": [
    "### 2.3. Cálculo de las rigideces axiales"
   ]
  },
  {
   "cell_type": "markdown",
   "id": "aa676336-ea97-41da-be24-99af5bcada6a",
   "metadata": {},
   "source": [
    "Se calculan las rigideces axiales $k^{(e)}$ para cada barra, por medio de la ecuación \n",
    "$$k^{(e)} = \\frac{E^{(e)} A^{(e)}} {L^{(e)}}.$$ \n",
    "Como $E^{(e)}$ y $A^{(e)}$ son constantes en las tres barras, solo se varía el valor $L^{(e)}$ de cada barra. Entonces las rigideces de las tres barras quedarán almacenadas en la lista `k`:"
   ]
  },
  {
   "cell_type": "code",
   "execution_count": 11,
   "id": "36c758be-457c-442d-97d1-2fd000ce9874",
   "metadata": {},
   "outputs": [
    {
     "data": {
      "text/latex": [
       "$\\displaystyle \\left[ \\frac{A E}{L}, \\  \\frac{A E}{L}, \\  \\frac{2 A E}{L}\\right]$"
      ],
      "text/plain": [
       "<IPython.core.display.Math object>"
      ]
     },
     "execution_count": 11,
     "metadata": {},
     "output_type": "execute_result"
    }
   ],
   "source": [
    "k = [E*A/longitud for longitud in long]         # Se crea la lista k = [ E*A/long[1] , E*A/long[2] , E*A/long[3] ]\n",
    "imprimir(\"\", k)"
   ]
  },
  {
   "cell_type": "code",
   "execution_count": 12,
   "id": "885817ad-2e80-4935-84d9-e0948c43ea9f",
   "metadata": {},
   "outputs": [
    {
     "data": {
      "text/latex": [
       "$\\displaystyle  k^{(1)} = \\frac{A E}{L}$"
      ],
      "text/plain": [
       "<IPython.core.display.Math object>"
      ]
     },
     "execution_count": 12,
     "metadata": {},
     "output_type": "execute_result"
    }
   ],
   "source": [
    "imprimir(r\" k^{(1)} = \" , k[1-1])"
   ]
  },
  {
   "cell_type": "code",
   "execution_count": 13,
   "id": "b976c872-d34f-47cd-a6fb-acba52f2e9ad",
   "metadata": {},
   "outputs": [
    {
     "data": {
      "text/latex": [
       "$\\displaystyle  k^{(2)} = \\frac{A E}{L}$"
      ],
      "text/plain": [
       "<IPython.core.display.Math object>"
      ]
     },
     "execution_count": 13,
     "metadata": {},
     "output_type": "execute_result"
    }
   ],
   "source": [
    "imprimir(r\" k^{(2)} = \" , k[2-1])"
   ]
  },
  {
   "cell_type": "code",
   "execution_count": 14,
   "id": "f7626293-3cf2-4d1e-af27-8bb7fb563979",
   "metadata": {},
   "outputs": [
    {
     "data": {
      "text/latex": [
       "$\\displaystyle  k^{(3)} = \\frac{2 A E}{L}$"
      ],
      "text/plain": [
       "<IPython.core.display.Math object>"
      ]
     },
     "execution_count": 14,
     "metadata": {},
     "output_type": "execute_result"
    }
   ],
   "source": [
    "imprimir(r\" k^{(3)} = \" , k[3-1])"
   ]
  },
  {
   "cell_type": "markdown",
   "id": "25c50ba0-ee2a-4e99-af81-4fe0e100cc5b",
   "metadata": {},
   "source": [
    "---"
   ]
  },
  {
   "cell_type": "markdown",
   "id": "d71a7317-56c0-48a0-874f-c06824678bc9",
   "metadata": {},
   "source": [
    "### 2.4. Ensamblaje \"a pedal\"."
   ]
  },
  {
   "cell_type": "markdown",
   "id": "b9a70447-34d1-44ff-8580-f6c2ccff8e7b",
   "metadata": {},
   "source": [
    "A continuación se ensamblará un elemento en $\\boldsymbol{K}$ y un elemento en $\\boldsymbol{f}$ utilizando las mismas líneas de código del ensamblaje automático, con la diferencia de que se analizará cada línea y se explicará al menos una iteración de cada ciclo que se utilice."
   ]
  },
  {
   "cell_type": "markdown",
   "id": "03519bca-bebd-44f7-9b8b-dc20bd9c0dfb",
   "metadata": {},
   "source": [
    "#### 2.4.1. Se definen $\\boldsymbol{f}$ y $\\boldsymbol{K}$."
   ]
  },
  {
   "cell_type": "markdown",
   "id": "b55045c5-feab-41d9-9b28-e5729183ce6a",
   "metadata": {},
   "source": [
    "- Como la estructura tiene cuatro g.d.l, la matriz de rigidez global $\\boldsymbol{K}$ será de tamaño 4x4, así que se define inicialmente una matriz de ceros:"
   ]
  },
  {
   "cell_type": "code",
   "execution_count": 15,
   "id": "49bbf5f5-70d4-460e-bfac-9676a2661ea9",
   "metadata": {},
   "outputs": [
    {
     "data": {
      "text/latex": [
       "$\\displaystyle \\boldsymbol{K} = \\left[\\begin{matrix}0 & 0 & 0 & 0\\\\0 & 0 & 0 & 0\\\\0 & 0 & 0 & 0\\\\0 & 0 & 0 & 0\\end{matrix}\\right]$"
      ],
      "text/plain": [
       "<IPython.core.display.Math object>"
      ]
     },
     "execution_count": 15,
     "metadata": {},
     "output_type": "execute_result"
    }
   ],
   "source": [
    "K = sp.zeros(4)                               # Separa memoria para matriz de rigidez global K de tamaño 4x4\n",
    "imprimir(r\"\\boldsymbol{K} = \", K)"
   ]
  },
  {
   "cell_type": "markdown",
   "id": "2a67f2d6-e5de-455e-924a-fb36a37bf815",
   "metadata": {},
   "source": [
    "- De igual manera, como la estructura tiene cuatro g.d.l, el vector de fuerzas nodales equivalentes global $\\boldsymbol{f}$ será de tamaño 4x1, así que se define inicialmente un vector de ceros y se le agregan las cargas puntuales en los nodos:"
   ]
  },
  {
   "cell_type": "code",
   "execution_count": 16,
   "id": "3e0625d6-36c2-4fd5-acff-d53182ca4ba2",
   "metadata": {},
   "outputs": [],
   "source": [
    "f = sp.zeros(4,1)     # Se separa memoria para el vector f global de tamaño 4x1\n",
    "f[3-1] = P/2          # Se agrega la carga puntual aplicada en el g.d.l. 3\n",
    "f[4-1] = P            # Se agrega la carga puntual aplicada en el g.d.l. 4"
   ]
  },
  {
   "cell_type": "code",
   "execution_count": 17,
   "id": "73ef4c7e-5280-46ba-8963-e3fa10caf486",
   "metadata": {},
   "outputs": [
    {
     "data": {
      "text/latex": [
       "$\\displaystyle  \\boldsymbol{f} = \\left[\\begin{matrix}0\\\\0\\\\\\frac{P}{2}\\\\P\\end{matrix}\\right]$"
      ],
      "text/plain": [
       "<IPython.core.display.Math object>"
      ]
     },
     "execution_count": 17,
     "metadata": {},
     "output_type": "execute_result"
    }
   ],
   "source": [
    "imprimir(r\" \\boldsymbol{f} = \", f)"
   ]
  },
  {
   "cell_type": "markdown",
   "id": "596fe2cb-5012-4ede-83ed-288ba9588cee",
   "metadata": {},
   "source": [
    "- Se define una matriz llamada `fe` que contiene las fuerzas nodales equivalentes para cada barra. La columna $e$ representa la barra número #$e$,   mientras que las filas $1$ y $2$ indican si la fuerza nodal se encuentra en el nodo local $1$ o en el nodo local $2$, respectivamente.  \n",
    "\n",
    "  O dicho de otra forma, la columna $e$ es el vector local de fuerzas nodales equivalentes de la barra #$e$, denotado como $\\boldsymbol{f}^{(e)}$:"
   ]
  },
  {
   "cell_type": "code",
   "execution_count": 18,
   "id": "3f6326f1-b813-47f4-b918-80fbc80bf7ba",
   "metadata": {},
   "outputs": [],
   "source": [
    "          #  e  =   1  ,   2  ,  3\n",
    "fe = sp.Matrix([[ b*L/2, b*L/2,  0 ],    # NL1\n",
    "                [ b*L/2, b*L/2,  0 ]])   # NL2"
   ]
  },
  {
   "cell_type": "markdown",
   "id": "a1674199-f451-4434-b3d5-a6d2996a3622",
   "metadata": {},
   "source": [
    "---"
   ]
  },
  {
   "cell_type": "markdown",
   "id": "167cef5b-375e-4770-a173-5028cc8697a4",
   "metadata": {},
   "source": [
    "#### 2.4.2. Ciclo `for`."
   ]
  },
  {
   "cell_type": "markdown",
   "id": "3d64e9ac-c11a-4b0f-84a3-cfb1332fd3c8",
   "metadata": {},
   "source": [
    "Se ensambla la matriz de rigidez global $\\boldsymbol{K}$ y el vector global $\\boldsymbol{f}$ con de las siguientes líneas de código:\n",
    "\n",
    "```\n",
    "for e in range(3):                              # Se ejecuta una iteración para cada barra e = 1, 2 y 3 (0, 1 y 2 en Python).\n",
    "    idx = LaG[e,:]                              # Vector fila con índices de los nodos globales de la barra e.\n",
    "    Ke  = k[e]*np.array([[1, -1],[-1, 1]])      # Matriz de rigidez local de la barra e.\n",
    "    ensamblar_mat(K, idx, Ke)                   # Se ensambla Ke en la matriz de rigidez global K.\n",
    "    ensamblar_vec(f, idx, fe[:,e])              # Se ensamblan las fuerzas nodales equivalentes de la barra e en el vector global f.\n",
    "```\n",
    "Veamos línea por línea la iteración del ciclo `for` de la barra $e=2$ ($e=1$ en Python), para entender cómo funciona el ensamblaje:"
   ]
  },
  {
   "cell_type": "markdown",
   "id": "fc870914-285d-4bfa-93b7-43b725b9dd77",
   "metadata": {},
   "source": [
    "- Se define el vector `idx`, el cual extraerá de la matriz `LaG` los nodos globales de la barra $e=2$ ($e=1$ en  Python). Es decir, extraerá los nodos $2$ y $3$ ($1$ y $2$ en Python):"
   ]
  },
  {
   "cell_type": "code",
   "execution_count": 19,
   "id": "4d53c309-2fb9-4b3a-97ea-2426e7a08d9a",
   "metadata": {},
   "outputs": [
    {
     "data": {
      "text/latex": [
       "$\\displaystyle \\mathrm{idx} = \\mathtt{\\text{[2 3]}}$"
      ],
      "text/plain": [
       "<IPython.core.display.Math object>"
      ]
     },
     "execution_count": 19,
     "metadata": {},
     "output_type": "execute_result"
    }
   ],
   "source": [
    "e = 2-1                                  # Se define e=2 (e=1 en Python)\n",
    "idx = LaG[e, :]                          # Extrae la fila 2 (correspondiente a la barra 2) de la matriz LaG,o sea, la matriz [2  3]\n",
    "imprimir(r\"\\mathrm{idx} = \", idx+1)      # Se le suma 1 para que se imprima como si el conteo fuera desde 1."
   ]
  },
  {
   "cell_type": "markdown",
   "id": "26fb3e68-e189-417f-9dd7-646dc3b5b1db",
   "metadata": {},
   "source": [
    "- Se define la matriz  de rigidez local de la barra $e=2$, por medio de la ecuación \n",
    "                   $$\\boldsymbol{K}^{(e)} = k^{(e)} \\begin{bmatrix}  1  &  -1  \\\\  -1  &  1  \\end{bmatrix}.$$\n",
    "\n",
    "  Recuerde que la rigidez axial $k^{(2)}$ se encuentra en la posición #$2$ (#$1$ en Python) de la lista ya definida como `k`:"
   ]
  },
  {
   "cell_type": "code",
   "execution_count": 20,
   "id": "a9414057-1bd0-4768-bed0-936d2fec0b16",
   "metadata": {},
   "outputs": [
    {
     "data": {
      "text/latex": [
       "$\\displaystyle \\boldsymbol{K}^{(2)} = \\left[\\begin{matrix}\\frac{A E}{L} & - \\frac{A E}{L}\\\\- \\frac{A E}{L} & \\frac{A E}{L}\\end{matrix}\\right]$"
      ],
      "text/plain": [
       "<IPython.core.display.Math object>"
      ]
     },
     "execution_count": 20,
     "metadata": {},
     "output_type": "execute_result"
    }
   ],
   "source": [
    "Ke  = k[e]*sp.Matrix([[1, -1],[-1, 1]])                    # k[2-1] extrae la rigidez de la barra 2.\n",
    "imprimir(r\"\\boldsymbol{K}^{(2)} = \", Ke)"
   ]
  },
  {
   "cell_type": "markdown",
   "id": "4727fd27-ddff-4e30-b3f8-6e54cfa92baa",
   "metadata": {},
   "source": [
    "##### 2.4.2.1. Función `ensamblar_mat` para $\\boldsymbol{K}$."
   ]
  },
  {
   "cell_type": "markdown",
   "id": "625fdcfd-44c5-4611-8b27-b9e072b2c804",
   "metadata": {},
   "source": [
    "En la siguiente línea se utiliza la función ya definida como `ensamblar_mat(K, idx, Ke)`, pero en lugar de ejecutarla, vamos a ejecutar las líneas que hay dentro de la función:  \n",
    "\n",
    "```\n",
    "# Se verifica que la matriz global K sea cuadrada\n",
    "nfil, ncol = K.shape                                                  \n",
    "assert nfil == ncol, \"La matriz de rigidez K debe ser cuadrada\"       \n",
    "\n",
    "                                    \n",
    "    \n",
    "# Se verifica que la matriz local Ke sea cuadrada y del tamaño de idx\n",
    "nfil, ncol = Ke.shape             \n",
    "assert nfil == ncol == len(idx),\\\n",
    "            \"Ke debe ser cuadrada y debe tener el mismo número de filas que idx\"\n",
    "\n",
    "       \n",
    "    \n",
    "# Se procede con el ensamblaje                 \n",
    "for i in range(nfil):                             \n",
    "    for j in range(ncol):                      \n",
    "    K[idx[i], idx[j]] += Ke[i,j]    \n",
    "```"
   ]
  },
  {
   "cell_type": "markdown",
   "id": "5a1dbf48-be03-43f4-8d15-941cb69c6688",
   "metadata": {},
   "source": [
    "- Se verifica que la matriz de rigidez global $\\boldsymbol{K}$ sea cuadrada. Si no fuera cuadrada, se arrojaría un error:"
   ]
  },
  {
   "cell_type": "code",
   "execution_count": 21,
   "id": "4d986f8a-94cf-42f8-b0c0-93cd9c1cfa14",
   "metadata": {},
   "outputs": [],
   "source": [
    "nfil, ncol = K.shape                                                    # K.shape es la tupla (4,4), o sea que nfil=4 y ncol=4\n",
    "assert nfil == ncol, \"La matriz de rigidez K debe ser cuadrada\"         # En efecto, 4 = 4"
   ]
  },
  {
   "cell_type": "markdown",
   "id": "2b118b36-7f69-4c93-b023-bdc55b12a707",
   "metadata": {},
   "source": [
    "- Se verifica que la matriz de rigidez local $\\boldsymbol{K}^{(e)}$ sea cuadrada y tenga tantas columnas como el vector `idx`, es decir, $\\boldsymbol{K}^{(e)}$ debe ser de tamaño 2x2. En caso contrario, se arrojaría un error, ya que el tamaño de $\\boldsymbol{K}^{(e)}$ determina el número de nodos de la barra #$e$, y esto debe ser congruente con el número de nodos por barra en la matriz `LaG`, de donde se extrae el vector `idx`."
   ]
  },
  {
   "cell_type": "code",
   "execution_count": 22,
   "id": "c1f295fb-a96d-4f93-8e2e-c43c6eee5b68",
   "metadata": {},
   "outputs": [],
   "source": [
    "nfil, ncol = Ke.shape                                                                    # Ke.shape es la tupla (2,2), o sea que nfil=2 y ncol=2\n",
    "assert nfil == ncol == len(idx),\\\n",
    "            \"Ke debe ser cuadrada y debe tener el mismo número de filas que idx\"         # En efecto, 2 = 2 = 2"
   ]
  },
  {
   "cell_type": "markdown",
   "id": "f4df709c-b79c-4219-8ead-d3d44d221ba1",
   "metadata": {},
   "source": [
    "- El ensamblaje de $\\boldsymbol{K}$ consiste de un ciclo `for` dentro de otro ciclo `for`.  \n",
    "El iterable `i` recorre las filas de $\\boldsymbol{K}^{(e)}$, mientras que `j`recorre las columnas.  \n",
    "A continuación se realizará la iteración $i=2$ y $j=1$ ($i=1$ y $j=0$ en Python) del ciclo `for`, que extraerá la componente $(2, 1)$ de $\\boldsymbol{K}^{(2)}$ y la ensamblará en la componente $(3, 2)$ de $\\boldsymbol{K}$:"
   ]
  },
  {
   "cell_type": "code",
   "execution_count": 23,
   "id": "44540184-413f-40bf-85ad-b7eb21cb6fe1",
   "metadata": {},
   "outputs": [
    {
     "data": {
      "text/latex": [
       "$\\displaystyle \\boldsymbol{K} = \\left[\\begin{matrix}0 & 0 & 0 & 0\\\\0 & 0 & 0 & 0\\\\0 & - \\frac{A E}{L} & 0 & 0\\\\0 & 0 & 0 & 0\\end{matrix}\\right]$"
      ],
      "text/plain": [
       "<IPython.core.display.Math object>"
      ]
     },
     "execution_count": 23,
     "metadata": {},
     "output_type": "execute_result"
    }
   ],
   "source": [
    "i = 2-1                                              \n",
    "j = 1-1\n",
    "\n",
    "# for i in range(nfil):                    Se ejecuta una iteración por cada una de las 2 filas de Ke   \n",
    "    # for j in range(ncol):                Se ejecuta una iteración por cada una de las 2 columnas de Ke. El ciclo anidado ejecuta 2*2=4 iteraciones.\n",
    "\n",
    "K[idx[i], idx[j]] += Ke[i, j]            # Se extrae la componente [2,1] de Ke, y se le suma a la matriz  K en la posicón [idx[2], idx[1]] = [3, 2]\n",
    "                                                \n",
    "imprimir(r\"\\boldsymbol{K} = \", K)"
   ]
  },
  {
   "cell_type": "markdown",
   "id": "3ef63f91-c8d9-4ba5-bfa4-81d0e9f0b652",
   "metadata": {},
   "source": [
    "---"
   ]
  },
  {
   "cell_type": "markdown",
   "id": "8ba00057-1e49-447e-976d-dc68bde9f92b",
   "metadata": {},
   "source": [
    "##### 2.4.2.1. Función `ensamblar_vec` para $\\boldsymbol{f}$."
   ]
  },
  {
   "cell_type": "markdown",
   "id": "14fb33ea-06bc-4e0d-8d8b-e2c6b08dfc71",
   "metadata": {},
   "source": [
    "En la siguiente línea se utiliza la función ya definida como `ensamblar_vec(v, idx, ve)` con los siguientes parámetros:\n",
    "\n",
    "- `v`: Vector de fuerzas nodales equivalentes global $\\boldsymbol{f}$.\n",
    "- `ve`: Vector de fuerzas nodales equivalentes local de la barra #$e$, denotado por $\\boldsymbol{f}^{(e)}$.\n",
    "\n",
    "Pero en lugar de ejecutarla, vamos a ejecutar las líneas que hay dentro de la función:\n",
    "```\n",
    "def ensamblar_vec(v, idx, ve):\n",
    "\n",
    "    # Se verifica que v sea un vector columna\n",
    "    nfil, ncol = v.shape\n",
    "    assert ncol == 1, \"v debe ser un vector columna\"           \n",
    "                                                \n",
    "    \n",
    "    \n",
    "    # Se verifica que el ve sea vector columna y que tenga el mismo número de elementos que idx\n",
    "    nfil, ncol = ve.shape\n",
    "    assert ncol == 1 and nfil == len(idx),\\\n",
    "            \"ve debe ser vector columna y debe tener el mismo número de elementos que idx\"\n",
    "                                                \n",
    "\n",
    "\n",
    "    \n",
    "    # se procede con el ensamblaje              \n",
    "    for i in range(nfil):                       \n",
    "        f[idx[i]] += ve[i]                 \n",
    "\n",
    "```"
   ]
  },
  {
   "cell_type": "markdown",
   "id": "e420febc-e3ce-45ad-a349-697db5518147",
   "metadata": {},
   "source": [
    "- Inicialmente, se imprime el vector de fuerzas nodales equivalentes de la barra $e=2$ ($e=1$ en Python), que se obtiene de `fe[:, e]`, pues cada columna de la matriz `fe`representa cada una de las tres barras."
   ]
  },
  {
   "cell_type": "code",
   "execution_count": 24,
   "id": "375f824c-c54c-46d3-8b26-444ad3aefed7",
   "metadata": {},
   "outputs": [
    {
     "data": {
      "text/latex": [
       "$\\displaystyle  \\boldsymbol{f}^{(2)} = \\left[\\begin{matrix}\\frac{L b}{2}\\\\\\frac{L b}{2}\\end{matrix}\\right]$"
      ],
      "text/plain": [
       "<IPython.core.display.Math object>"
      ]
     },
     "execution_count": 24,
     "metadata": {},
     "output_type": "execute_result"
    }
   ],
   "source": [
    "imprimir(r\" \\boldsymbol{f}^{(2)} = \", fe[:, 2-1] )"
   ]
  },
  {
   "cell_type": "markdown",
   "id": "b4fae01a-06fb-461d-9a7d-38b1486aebb3",
   "metadata": {},
   "source": [
    "- Se verifica que el vector de fuerzas nodales equivalentes global $\\boldsymbol{f}$ sea un vector columna. En caso de no serlo, se arrojaría un error:"
   ]
  },
  {
   "cell_type": "code",
   "execution_count": 25,
   "id": "f103d9f8-87f6-45b2-b1b3-ab1fbcbb0c4e",
   "metadata": {},
   "outputs": [],
   "source": [
    "nfil, ncol = f.shape                                      # f.shape es la tupla (4,1), o sea que nfil=4 y ncol=1\n",
    "assert ncol == 1, \"v debe ser un vector columna\"          # En efecto, 1 = 1"
   ]
  },
  {
   "cell_type": "markdown",
   "id": "f2085685-7f23-4897-b4cb-3ac108f67b5d",
   "metadata": {},
   "source": [
    "- Se verifica que el número de filas del vector columna $\\boldsymbol{f}^{(2)}$ (o `fe[:, 2-1]`) sea igual que el número de elementos de `idx`, es decir,  $\\boldsymbol{f}^{(2)}$ debe tener dos filas. En caso contrario, se arrojaría un error, ya que el tamaño de  $\\boldsymbol{f}^{(2)}$ determina el número de nodos de la barra #$e$, y esto debe ser congruente con el número de nodos por barra en la matriz `LaG`, de donde se extrae el vector `idx`.  \n"
   ]
  },
  {
   "cell_type": "code",
   "execution_count": 26,
   "id": "fdfa1136-1ec8-4e37-84bc-0e5031eec58b",
   "metadata": {},
   "outputs": [],
   "source": [
    "nfil, ncol = fe[:, e].shape                                                                     # f.shape es la tupla (2,1), o sea que nfil=2 y ncol=1\n",
    "assert nfil == len(idx),\\\n",
    "            \"ve debe ser vector columna y debe tener el mismo número de elementos que idx\"      # En efecto, 2 = 2"
   ]
  },
  {
   "cell_type": "markdown",
   "id": "53d80fb7-b44a-40c3-b7a4-35a9e2bac3f3",
   "metadata": {},
   "source": [
    "- El ensamblaje de $\\boldsymbol{f}$ consiste de un ciclo `for`, en el que el iterable `i` recorre los elementos del vector $\\boldsymbol{f}^{(e)}$. A continuación se realizará la iteración $i=1$ ($i=0$ en Python), que extraerá el elemento $1$ de $\\boldsymbol{f}^{(2)}$ y lo ensamblará en el elemento $2$ de $\\boldsymbol{f}$:"
   ]
  },
  {
   "cell_type": "code",
   "execution_count": 27,
   "id": "713197d6-8858-463a-8e02-ab79463483f3",
   "metadata": {},
   "outputs": [
    {
     "data": {
      "text/latex": [
       "$\\displaystyle  \\boldsymbol{f} = \\left[\\begin{matrix}0\\\\\\frac{L b}{2}\\\\\\frac{P}{2}\\\\P\\end{matrix}\\right]$"
      ],
      "text/plain": [
       "<IPython.core.display.Math object>"
      ]
     },
     "execution_count": 27,
     "metadata": {},
     "output_type": "execute_result"
    }
   ],
   "source": [
    "i = 1-1\n",
    "\n",
    "# for i in range(nfil):              Se ejecuta una iteración por cada una de las dos filas de fe[:, e]          \n",
    "\n",
    "f[idx[i]] += (fe[:, e])[i]           # Se extrae el elemento 1 de fe[:, 2] y se ensambla en el elemento idx[1] = 2 del vector global f\n",
    "\n",
    "imprimir(r\" \\boldsymbol{f} = \", f)"
   ]
  },
  {
   "cell_type": "markdown",
   "id": "0c11fc12-46b7-4160-99af-810901076672",
   "metadata": {},
   "source": [
    "---"
   ]
  },
  {
   "cell_type": "markdown",
   "id": "a4a9d024-3dff-491d-8eb6-4b8f81e5a8be",
   "metadata": {},
   "source": [
    "### 2.5. Ensamblaje automático"
   ]
  },
  {
   "cell_type": "markdown",
   "id": "ae1a1056-b912-46b1-b530-a2dd7c4543e4",
   "metadata": {},
   "source": [
    "Una vez comprendido el funcionamiento de las líneas de código para ensamblar $\\boldsymbol{K}$ y $\\boldsymbol{f}$, se ejecutarán todas a la vez, para luego imprimir la matriz y el vector totalmente ensamblados."
   ]
  },
  {
   "cell_type": "code",
   "execution_count": 28,
   "id": "eace4f3d-63b7-4cdf-b9a9-7b91aced3643",
   "metadata": {},
   "outputs": [],
   "source": [
    "K = sp.zeros(4)                                # Reinicia la matriz K, pues el ejemplo la había alterado\n",
    "\n",
    "f = sp.zeros(4,1)                              # Reinicia el vector f, pues el ejemplo lo había alterado\n",
    "f[3-1] = P/2                                   # Se agrega la carga puntual aplicada en el g.d.l. 3\n",
    "f[4-1] = P                                     # Se agrega la carga puntual aplicada en el g.d.l. 4\n",
    "\n",
    "for e in range(3):                             # Se ejecuta una iteración para cada barra e = 1, 2 y 3 (0, 1 y 2 en Python)\n",
    "   idx = LaG[e,:]                              # Vector fila con índices de los nodos globales de la barra e\n",
    "   Ke  = k[e]*np.array([[1, -1],[-1, 1]])      # Matriz de rigidez local de la barra e\n",
    "   ensamblar_mat(K, idx, Ke)                   # Se ensambla Ke en la matriz de rigidez global K\n",
    "   ensamblar_vec(f, idx, fe[:,e])              # Se ensamblan las fuerzas nodales equivalentes de la barra e en el vector global f"
   ]
  },
  {
   "cell_type": "markdown",
   "id": "5f1f81f1-7e8d-4d5a-b622-bf6cd96a030f",
   "metadata": {},
   "source": [
    "- Matriz de rigidez gobal:"
   ]
  },
  {
   "cell_type": "code",
   "execution_count": 29,
   "id": "4faef33c-1e2c-4354-9668-88c5ecfa37b5",
   "metadata": {},
   "outputs": [
    {
     "data": {
      "text/latex": [
       "$\\displaystyle  \\boldsymbol{K} = \\left[\\begin{matrix}\\frac{A E}{L} & 0 & - \\frac{A E}{L} & 0\\\\0 & \\frac{A E}{L} & - \\frac{A E}{L} & 0\\\\- \\frac{A E}{L} & - \\frac{A E}{L} & \\frac{4 A E}{L} & - \\frac{2 A E}{L}\\\\0 & 0 & - \\frac{2 A E}{L} & \\frac{2 A E}{L}\\end{matrix}\\right]$"
      ],
      "text/plain": [
       "<IPython.core.display.Math object>"
      ]
     },
     "execution_count": 29,
     "metadata": {},
     "output_type": "execute_result"
    }
   ],
   "source": [
    "imprimir(r\" \\boldsymbol{K} = \", K)"
   ]
  },
  {
   "cell_type": "markdown",
   "id": "313929fd-2303-4df4-a6e1-ab5e22657531",
   "metadata": {},
   "source": [
    "- Vector de fuerzas nodales equivalentes global:"
   ]
  },
  {
   "cell_type": "code",
   "execution_count": 30,
   "id": "e5cc1def-25de-4c4b-8800-263e640533a0",
   "metadata": {},
   "outputs": [
    {
     "data": {
      "text/latex": [
       "$\\displaystyle  \\boldsymbol{f} = \\left[\\begin{matrix}\\frac{L b}{2}\\\\\\frac{L b}{2}\\\\L b + \\frac{P}{2}\\\\P\\end{matrix}\\right]$"
      ],
      "text/plain": [
       "<IPython.core.display.Math object>"
      ]
     },
     "execution_count": 30,
     "metadata": {},
     "output_type": "execute_result"
    }
   ],
   "source": [
    "imprimir(r\" \\boldsymbol{f} = \", f)"
   ]
  },
  {
   "cell_type": "markdown",
   "id": "de18af8d-305f-41fb-9c00-47b6a1e17a8f",
   "metadata": {},
   "source": [
    "---"
   ]
  },
  {
   "cell_type": "markdown",
   "id": "0433897b-94d3-48b4-a974-dd12fe62553d",
   "metadata": {},
   "source": [
    "## 3. Solución al sistema de ecuaciones $\\boldsymbol{q} = \\boldsymbol{K}\\boldsymbol{a} - \\boldsymbol{f}$."
   ]
  },
  {
   "cell_type": "markdown",
   "id": "a9587c33-a339-4d32-ae28-4aabf542ab09",
   "metadata": {},
   "source": [
    "### 3.1. Grados de libertad conocidos $(\\boldsymbol{c})$ y desconocidos $(\\boldsymbol{d})$."
   ]
  },
  {
   "cell_type": "markdown",
   "id": "b9b38207-c0ea-4702-825c-33c6b1ae6619",
   "metadata": {},
   "source": [
    "Se definen los g.d.l. asociados a los desplazamientos conocidos (c) y desconocidos (d). Recuerde que los g.d.l. conocidos son aquellos en los que los desplazamientos están restringidos (son iguales a 0) y los desconocidos son los g.d.l. restantes: "
   ]
  },
  {
   "cell_type": "code",
   "execution_count": 31,
   "id": "56b107e8-a5ff-4d21-b659-85977e2b3398",
   "metadata": {},
   "outputs": [],
   "source": [
    "c = np.array([1, 2]) - 1                          # Se le resta 1 porque en python el conteo empieza desde 0\n",
    "c = sp.Matrix(c)                                  # Se convierte de Numpy a SymPy\n",
    "d = np.setdiff1d(np.arange(4), c)                 # setdiff encuentra la diferencia de conjuntos entre dos arreglos: d = [1,2,3,4] - [1,2] = [3,4]\n",
    "d = sp.Matrix(d)                                  # Se convierte de Numpy a SymPy"
   ]
  },
  {
   "cell_type": "code",
   "execution_count": 32,
   "id": "5808e4e4-bbd7-492d-b72a-4f6129a71473",
   "metadata": {},
   "outputs": [
    {
     "data": {
      "text/latex": [
       "$\\displaystyle  \\boldsymbol{c} = \\left[\\begin{matrix}1\\\\2\\end{matrix}\\right]$"
      ],
      "text/plain": [
       "<IPython.core.display.Math object>"
      ]
     },
     "execution_count": 32,
     "metadata": {},
     "output_type": "execute_result"
    }
   ],
   "source": [
    "imprimir(r\" \\boldsymbol{c} = \", c + sp.Matrix([1, 1]))     # Se le suma [1,1] para que empiece el conteo desde 1"
   ]
  },
  {
   "cell_type": "code",
   "execution_count": 33,
   "id": "d35001c6-2638-4de6-947b-b204afe0d7b1",
   "metadata": {},
   "outputs": [
    {
     "data": {
      "text/latex": [
       "$\\displaystyle  \\boldsymbol{d} = \\left[\\begin{matrix}3\\\\4\\end{matrix}\\right]$"
      ],
      "text/plain": [
       "<IPython.core.display.Math object>"
      ]
     },
     "execution_count": 33,
     "metadata": {},
     "output_type": "execute_result"
    }
   ],
   "source": [
    "imprimir(r\" \\boldsymbol{d} = \", d + sp.Matrix([1, 1]))     # Se le suma [1,1] para que empiece el conteo desde 1"
   ]
  },
  {
   "cell_type": "markdown",
   "id": "a70c8024-b093-49df-82a7-a4cca00b8401",
   "metadata": {},
   "source": [
    "### 3.2. Partición de la ecuación $\\boldsymbol{q} = \\boldsymbol{K}\\boldsymbol{a} - \\boldsymbol{f}$."
   ]
  },
  {
   "cell_type": "markdown",
   "id": "c8e18f6e-e92e-4356-b5a4-00084435c539",
   "metadata": {},
   "source": [
    "Luego de particionar la ecuación $\\boldsymbol{q} = \\boldsymbol{K}\\boldsymbol{a} - \\boldsymbol{f}$ de la siguiente manera\n",
    "$$\\underbrace{\\begin{bmatrix}  \\boldsymbol{q}_{d} \\\\ \\boldsymbol{q}_{c}  \\end{bmatrix}}_{\\boldsymbol{q}}  = \n",
    "  \\underbrace{\\begin{bmatrix}  \\boldsymbol{K}_{cc} & \\boldsymbol{K}_{cd}  \\\\  \\boldsymbol{K}_{dc} & \\boldsymbol{K}_{dd} \\end{bmatrix}}_{\\boldsymbol{K}}\n",
    "  \\underbrace{\\begin{bmatrix}  \\boldsymbol{a}_{c} \\\\ \\boldsymbol{a}_{d}  \\end{bmatrix}}_{\\boldsymbol{a}}  -\n",
    "  \\underbrace{\\begin{bmatrix}  \\boldsymbol{f}_{d} \\\\ \\boldsymbol{f}_{c}  \\end{bmatrix}}_{\\boldsymbol{f}} ,\n",
    "$$\n",
    "\n",
    "se definen los respectivos subvectores y submatrices de los vectores $\\boldsymbol{a}$, $\\boldsymbol{f}$ y la matriz $\\boldsymbol{K}$ (exceptuando $\\boldsymbol{a}_{d}$ y $\\boldsymbol{q}_{d}$ que son incógnitas, y $\\boldsymbol{q}_{c} = \\boldsymbol{0}$ que no es necesario para solucionar el sistema de ecuaciones):"
   ]
  },
  {
   "cell_type": "code",
   "execution_count": 34,
   "id": "e77a4545-31c0-4a6c-9a83-2cd022e22fd6",
   "metadata": {},
   "outputs": [],
   "source": [
    "Kcc = K.extract(c,c)        # Submatriz con los elementos de las filas {1,2} y las columnas {1,2} de la matriz K\n",
    "Kcd = K.extract(c,d)        # Submatriz con los elementos de las filas {1,2} y las columnas {3,4} de la matriz K\n",
    "Kdc = K.extract(d,c)        # Submatriz con los elementos de las filas {3,4} y las columnas {1,2} de la matriz K\n",
    "Kdd = K.extract(d,d)        # Submatriz con los elementos de las filas {3,4} y las columnas {3,4} de la matriz K\n",
    "ac  = sp.Matrix([0, 0])     # Normalmente, el vector de desplazamientos conocidos es nulo. En este caso ac tiene dos elementos ya que c tiene dos g.d.l.\n",
    "#ad = a.extract(d,[0])      # Subvector con los elementos 3 y 4 del vector a\n",
    "fc  = f.extract(d,[0])      # Subvector con los elementos 3 y 4 del vector f (recuerde que fc está asociado a los g.d.l. desconocidos d)\n",
    "fd  = f.extract(c,[0])      # Subvector con los elementos 1 y 2 del vector f (recuerde que fd está asociado a los g.d.l. conocidos c)"
   ]
  },
  {
   "cell_type": "code",
   "execution_count": 35,
   "id": "9e918d0c-c982-49e8-a364-e073ebd777ad",
   "metadata": {},
   "outputs": [
    {
     "data": {
      "text/latex": [
       "$\\displaystyle \\boldsymbol{K}_{cc} = \\left[\\begin{matrix}\\frac{A E}{L} & 0\\\\0 & \\frac{A E}{L}\\end{matrix}\\right]$"
      ],
      "text/plain": [
       "<IPython.core.display.Math object>"
      ]
     },
     "execution_count": 35,
     "metadata": {},
     "output_type": "execute_result"
    }
   ],
   "source": [
    "imprimir(r\"\\boldsymbol{K}_{cc} = \", Kcc)"
   ]
  },
  {
   "cell_type": "code",
   "execution_count": 36,
   "id": "a2b07149-6faf-4f88-b1cf-6fa76d23a662",
   "metadata": {},
   "outputs": [
    {
     "data": {
      "text/latex": [
       "$\\displaystyle \\boldsymbol{K}_{cd} = \\left[\\begin{matrix}- \\frac{A E}{L} & 0\\\\- \\frac{A E}{L} & 0\\end{matrix}\\right]$"
      ],
      "text/plain": [
       "<IPython.core.display.Math object>"
      ]
     },
     "execution_count": 36,
     "metadata": {},
     "output_type": "execute_result"
    }
   ],
   "source": [
    "imprimir(r\"\\boldsymbol{K}_{cd} = \", Kcd)"
   ]
  },
  {
   "cell_type": "code",
   "execution_count": 37,
   "id": "5a70849d-6e84-4dd0-a5fb-7e2275b72df3",
   "metadata": {},
   "outputs": [
    {
     "data": {
      "text/latex": [
       "$\\displaystyle \\boldsymbol{K}_{dc} = \\left[\\begin{matrix}- \\frac{A E}{L} & - \\frac{A E}{L}\\\\0 & 0\\end{matrix}\\right]$"
      ],
      "text/plain": [
       "<IPython.core.display.Math object>"
      ]
     },
     "execution_count": 37,
     "metadata": {},
     "output_type": "execute_result"
    }
   ],
   "source": [
    "imprimir(r\"\\boldsymbol{K}_{dc} = \", Kdc)"
   ]
  },
  {
   "cell_type": "code",
   "execution_count": 38,
   "id": "a97cc008-c23c-4712-be3d-606e2159cc93",
   "metadata": {},
   "outputs": [
    {
     "data": {
      "text/latex": [
       "$\\displaystyle \\boldsymbol{K}_{dd} = \\left[\\begin{matrix}\\frac{4 A E}{L} & - \\frac{2 A E}{L}\\\\- \\frac{2 A E}{L} & \\frac{2 A E}{L}\\end{matrix}\\right]$"
      ],
      "text/plain": [
       "<IPython.core.display.Math object>"
      ]
     },
     "execution_count": 38,
     "metadata": {},
     "output_type": "execute_result"
    }
   ],
   "source": [
    "imprimir(r\"\\boldsymbol{K}_{dd} = \", Kdd)"
   ]
  },
  {
   "cell_type": "code",
   "execution_count": 39,
   "id": "fe36b9b4-15a4-4800-9d20-3f2bd55f5f9a",
   "metadata": {},
   "outputs": [
    {
     "data": {
      "text/latex": [
       "$\\displaystyle \\boldsymbol{a}_{c} = \\left[\\begin{matrix}0\\\\0\\end{matrix}\\right]$"
      ],
      "text/plain": [
       "<IPython.core.display.Math object>"
      ]
     },
     "execution_count": 39,
     "metadata": {},
     "output_type": "execute_result"
    }
   ],
   "source": [
    "imprimir(r\"\\boldsymbol{a}_{c} = \", ac)"
   ]
  },
  {
   "cell_type": "code",
   "execution_count": 40,
   "id": "c56dbb41-c910-436f-b527-9dec0c037a50",
   "metadata": {},
   "outputs": [
    {
     "data": {
      "text/latex": [
       "$\\displaystyle \\boldsymbol{f}_{c} = \\left[\\begin{matrix}L b + \\frac{P}{2}\\\\P\\end{matrix}\\right]$"
      ],
      "text/plain": [
       "<IPython.core.display.Math object>"
      ]
     },
     "execution_count": 40,
     "metadata": {},
     "output_type": "execute_result"
    }
   ],
   "source": [
    "imprimir(r\"\\boldsymbol{f}_{c} = \", fc)"
   ]
  },
  {
   "cell_type": "code",
   "execution_count": 41,
   "id": "9a2d91f5-9b58-428d-92fe-68f20df44207",
   "metadata": {},
   "outputs": [
    {
     "data": {
      "text/latex": [
       "$\\displaystyle \\boldsymbol{f}_{d} = \\left[\\begin{matrix}\\frac{L b}{2}\\\\\\frac{L b}{2}\\end{matrix}\\right]$"
      ],
      "text/plain": [
       "<IPython.core.display.Math object>"
      ]
     },
     "execution_count": 41,
     "metadata": {},
     "output_type": "execute_result"
    }
   ],
   "source": [
    "imprimir(r\"\\boldsymbol{f}_{d} = \", fd)"
   ]
  },
  {
   "cell_type": "markdown",
   "id": "feb97258-e6ba-47ce-9489-341413fd7db3",
   "metadata": {},
   "source": [
    "### 3.3. Cálculo de fuerzas de equilibrio y desplazamientos desconocidos."
   ]
  },
  {
   "cell_type": "markdown",
   "id": "0cd11e2c-186f-4969-87b3-9f3de42c2834",
   "metadata": {},
   "source": [
    "Se calculan los vectores $\\boldsymbol{a}_{d}$ y $\\boldsymbol{q}_{d}$ por medio de las siguientes ecuaciones:\n",
    "        $$\\boldsymbol{a}_{d} = \\boldsymbol{K}_{dd}^{-1} ( \\boldsymbol{f}_{c} - \\boldsymbol{K}_{dc} \\boldsymbol{a}_{c} )$$\n",
    "        $$\\boldsymbol{q}_{d} = \\boldsymbol{K}_{cc} \\boldsymbol{a}_{c} + \\boldsymbol{K}_{cd} \\boldsymbol{a}_{d} - \\boldsymbol{f}_{d}$$"
   ]
  },
  {
   "cell_type": "code",
   "execution_count": 42,
   "id": "61091c17-d2f8-4afe-ac07-a774045bcae3",
   "metadata": {},
   "outputs": [],
   "source": [
    "ad = Kdd.solve(fc - Kdc*ac)\n",
    "qd = Kcc*ac + Kcd*ad - fd"
   ]
  },
  {
   "cell_type": "code",
   "execution_count": 43,
   "id": "2f10c243-3272-4d6c-a207-35e008b51ba2",
   "metadata": {},
   "outputs": [
    {
     "data": {
      "text/latex": [
       "$\\displaystyle \\boldsymbol{a}_d = \\left[\\begin{matrix}\\frac{2 L^{2} b + 3 L P}{4 A E}\\\\\\frac{2 L^{2} b + 5 L P}{4 A E}\\end{matrix}\\right]$"
      ],
      "text/plain": [
       "<IPython.core.display.Math object>"
      ]
     },
     "execution_count": 43,
     "metadata": {},
     "output_type": "execute_result"
    }
   ],
   "source": [
    "imprimir(r\"\\boldsymbol{a}_d = \", ad)"
   ]
  },
  {
   "cell_type": "code",
   "execution_count": 44,
   "id": "4e693f7c-8db6-4ceb-aa9a-89309fc1e083",
   "metadata": {},
   "outputs": [
    {
     "data": {
      "text/latex": [
       "$\\displaystyle \\boldsymbol{q}_d = \\left[\\begin{matrix}- \\frac{L b}{2} - \\frac{2 L^{2} b + 3 L P}{4 L}\\\\- \\frac{L b}{2} - \\frac{2 L^{2} b + 3 L P}{4 L}\\end{matrix}\\right]$"
      ],
      "text/plain": [
       "<IPython.core.display.Math object>"
      ]
     },
     "execution_count": 44,
     "metadata": {},
     "output_type": "execute_result"
    }
   ],
   "source": [
    "imprimir(r\"\\boldsymbol{q}_d = \", qd)"
   ]
  },
  {
   "cell_type": "markdown",
   "id": "364cb4c0-aef9-45d8-84c6-3efd73d33cac",
   "metadata": {},
   "source": [
    "---"
   ]
  },
  {
   "cell_type": "markdown",
   "id": "b96849b1-34b9-4b6f-8da4-cfec2348892e",
   "metadata": {},
   "source": [
    "## 4. Ensamblaje de los vectores $\\boldsymbol{a}$ y $\\boldsymbol{q}$."
   ]
  },
  {
   "cell_type": "markdown",
   "id": "cd956d85-942c-4147-a79c-4b7bfee59dbb",
   "metadata": {},
   "source": [
    "Se ensambla el vector de desplazamientos nodales global $(\\boldsymbol{a})$ y el vector de fuerzas nodales de equilibrio $(\\boldsymbol{q})$, recordando que\n",
    "        $$ \\boldsymbol{a} = \\begin{bmatrix}  \\boldsymbol{a}_{c} \\\\ \\boldsymbol{a}_{d}  \\end{bmatrix} \\hspace{4cm}\n",
    "           \\boldsymbol{q} = \\begin{bmatrix}  \\boldsymbol{q}_{d} \\\\ \\boldsymbol{q}_{c}  \\end{bmatrix}                   $$\n"
   ]
  },
  {
   "cell_type": "code",
   "execution_count": 45,
   "id": "9724885a-46ce-4d21-bc5d-90facc46d814",
   "metadata": {},
   "outputs": [],
   "source": [
    "a = sp.zeros(4,1); q = sp.zeros(4,1)     # Se separa memoria para a y q, ambos de tamaño 4x1 porque la estructura tiene cuatro g.d.l.\n",
    "\n",
    "# Se ensamblan los elementos en asociados a g.d.l. conocidos:\n",
    "for i in range(len(c)):            # Se ejecutan dos iteraciones, una para cada g.d.l. conocido. Por ejempo para i = 1:\n",
    "    a[c[i]] = ac[i]                # Se extrae el elemento 1 de ac y se ensambla en el elemento c[1] = 1 del vector a.\n",
    "    q[c[i]] = qd[i]                # Se extrae el elemento 1 de qd y se ensambla en el elemento c[1] = 1 del vector q. \n",
    "                                   # Recuerde que qd está asociado a los g.d.l. conocidos"
   ]
  },
  {
   "cell_type": "code",
   "execution_count": 46,
   "id": "f98294f4-d32b-42b9-91c2-4985580b8baf",
   "metadata": {},
   "outputs": [],
   "source": [
    "# Se ensamblan los elementos asociados a g.d.l. desconocidos:\n",
    "for i in range(len(d)):             # Se ejecutan dos iteraciones, una para cada g.d.l. conocido. Por ejempo para i = 2:\n",
    "    a[d[i]] = ad[i]                 # Se extrae el elemento 2 de ad y se ensambla en el elemento d[2] = 4 del vector a.\n",
    "  # q[d[i]] = qc[i] = 0             # Se extrae el elemento 2 de qc y se ensambla en el elemento d[2] = 4 del vector q. Es nnecesario pues qc = 0\n",
    "                                    # Recuerde que qc está asociado a los g.d.l. desconocidos"
   ]
  },
  {
   "cell_type": "markdown",
   "id": "6567ea6a-4b0c-4dbf-b300-d2405cccfd97",
   "metadata": {},
   "source": [
    "Se simplifican las expresiones dentro de $\\boldsymbol{a}$ y $\\boldsymbol{q}$:"
   ]
  },
  {
   "cell_type": "code",
   "execution_count": 47,
   "id": "f3775c7d-ec26-4032-8f59-8c8c01cc3e3c",
   "metadata": {},
   "outputs": [],
   "source": [
    "a   = sp.simplify(a)\n",
    "q   = sp.simplify(q)"
   ]
  },
  {
   "cell_type": "markdown",
   "id": "adfdd120-b7c1-4a27-a2e4-c06a86ce3a14",
   "metadata": {},
   "source": [
    "Finalmente se imprimen estos dos vectores:\n",
    "  - Vector de desplazamientos nodales global $\\boldsymbol{a}$.\n",
    "  - Vector de fuerzas nodales de equilibrio global $\\boldsymbol{q}$."
   ]
  },
  {
   "cell_type": "code",
   "execution_count": 48,
   "id": "5af6d0e9-ec5a-481f-a9b5-2c0dfa16f67c",
   "metadata": {},
   "outputs": [
    {
     "data": {
      "text/latex": [
       "$\\displaystyle  \\boldsymbol{a} = \\left[\\begin{matrix}0\\\\0\\\\\\frac{L \\left(2 L b + 3 P\\right)}{4 A E}\\\\\\frac{L \\left(2 L b + 5 P\\right)}{4 A E}\\end{matrix}\\right]$"
      ],
      "text/plain": [
       "<IPython.core.display.Math object>"
      ]
     },
     "execution_count": 48,
     "metadata": {},
     "output_type": "execute_result"
    }
   ],
   "source": [
    "imprimir(r\" \\boldsymbol{a} = \", a)"
   ]
  },
  {
   "cell_type": "code",
   "execution_count": 49,
   "id": "fdbce301-a356-484c-be6b-cf29f9b81bcc",
   "metadata": {},
   "outputs": [
    {
     "data": {
      "text/latex": [
       "$\\displaystyle  \\boldsymbol{q} = \\left[\\begin{matrix}- L b - \\frac{3 P}{4}\\\\- L b - \\frac{3 P}{4}\\\\0\\\\0\\end{matrix}\\right]$"
      ],
      "text/plain": [
       "<IPython.core.display.Math object>"
      ]
     },
     "execution_count": 49,
     "metadata": {},
     "output_type": "execute_result"
    }
   ],
   "source": [
    "imprimir(r\" \\boldsymbol{q} = \", q)"
   ]
  },
  {
   "cell_type": "markdown",
   "id": "46071fdc-1802-4662-a3ae-31448bf82f4a",
   "metadata": {},
   "source": [
    "---"
   ]
  },
  {
   "cell_type": "markdown",
   "id": "1448e686-bb83-4f46-ad1e-de894da69186",
   "metadata": {},
   "source": [
    "## 5. Cálculo de fuerzas axiales."
   ]
  },
  {
   "cell_type": "markdown",
   "id": "b6079aef-1d0a-447f-b758-72d16231d52c",
   "metadata": {},
   "source": [
    "Se calculan las fuerzas axiales en cada barra mediante la fórmula\n",
    "                                  $$ f^{(e)}_{ax} = k^{e} [ u^{(e)}_{2} - u^{(e)}_{2} ] .$$"
   ]
  },
  {
   "cell_type": "code",
   "execution_count": 50,
   "id": "af2ed51b-c4ae-4020-a2d5-123495da0f88",
   "metadata": {},
   "outputs": [],
   "source": [
    "fax = sp.zeros(3,1)             # Se separa memoria con un vector de ceros de tamaño 3x1 (una componente para cada barra)\n",
    "\n",
    "for e in range(3):              # Se ejecuta una iteración para cada barra e = 1, 2 y 3 (0, 1 y 2 en Python)                 \n",
    "   fax[e] = k[e]*(a[LaG[e,NL2]] - a[LaG[e,NL1]])"
   ]
  },
  {
   "cell_type": "markdown",
   "id": "d14df41c-1e22-46dd-9a68-0cec8077522c",
   "metadata": {},
   "source": [
    "donde:\n",
    "- `fax[e]`        : El resultado de la fuerza axial de la barra #$e$, se guarda en la posicón $e$ del vector `fax` (esto es $f^{(e)}_{ax}$).\n",
    "   \n",
    "- `k[e]`          : Elemento #$e$ de la lista `k`, que representa la rigidez axial de la barra #$e$ (esto es $k^{(e)}$).\n",
    " \n",
    "- `LaG[e,NL2]`    : Nodo global que corresponde al nodo local $2$ de la barra #$e$.\n",
    "\n",
    "- `a[LaG[e,NL2]]` : Desplazamiento del nodo local $2$ de la barra #$e$ (esto es $u^{(e)}_{2}$).\n",
    " \n",
    "- `LaG[e,NL1]`    : Nodo global que corresponde al nodo local $1$ de la barra #$e$.\n",
    "   \n",
    "- `a[LaG[e,NL1]]` : Desplazamiento del nodo local $1$ de la barra #$e$. (esto es $u^{(e)}_{1}$)."
   ]
  },
  {
   "cell_type": "markdown",
   "id": "f778522d-8fe5-4424-9b58-0b63fe04cebc",
   "metadata": {},
   "source": [
    "Se simplifican las expresiones dentro del vector obtenido $\\boldsymbol{f}_{ax}$:"
   ]
  },
  {
   "cell_type": "code",
   "execution_count": 51,
   "id": "b9dc56e6-8f30-4168-8567-89665e8fd30c",
   "metadata": {},
   "outputs": [],
   "source": [
    "fax = sp.simplify(fax)"
   ]
  },
  {
   "cell_type": "markdown",
   "id": "ee8cd0e8-c8f3-479e-b81e-32c43f84625e",
   "metadata": {},
   "source": [
    "Y finalmente se imprime el vector de fuerzas axiales $\\boldsymbol{f}_{ax}$, en el que la componente $e$ corresponde a $f^{(e)}_{ax}$:"
   ]
  },
  {
   "cell_type": "code",
   "execution_count": 52,
   "id": "993e35fc-3e65-45c8-8725-c34c26d364e1",
   "metadata": {},
   "outputs": [
    {
     "data": {
      "text/latex": [
       "$\\displaystyle  \\boldsymbol{f}_{ax} = \\left[\\begin{matrix}\\frac{L b}{2} + \\frac{3 P}{4}\\\\\\frac{L b}{2} + \\frac{3 P}{4}\\\\P\\end{matrix}\\right]$"
      ],
      "text/plain": [
       "<IPython.core.display.Math object>"
      ]
     },
     "execution_count": 52,
     "metadata": {},
     "output_type": "execute_result"
    }
   ],
   "source": [
    "imprimir(r\" \\boldsymbol{f}_{ax} = \", fax)"
   ]
  },
  {
   "cell_type": "code",
   "execution_count": 53,
   "id": "16744c8c-3594-4106-b55c-f2ed22b35fb8",
   "metadata": {},
   "outputs": [
    {
     "data": {
      "text/latex": [
       "$\\displaystyle  f_{ax}^{(1)} = \\frac{L b}{2} + \\frac{3 P}{4}$"
      ],
      "text/plain": [
       "<IPython.core.display.Math object>"
      ]
     },
     "execution_count": 53,
     "metadata": {},
     "output_type": "execute_result"
    }
   ],
   "source": [
    "imprimir(r\" f_{ax}^{(1)} = \", fax[1-1])"
   ]
  },
  {
   "cell_type": "code",
   "execution_count": 54,
   "id": "9f164bd7-98b2-43f4-b073-2d826412d7aa",
   "metadata": {},
   "outputs": [
    {
     "data": {
      "text/latex": [
       "$\\displaystyle  f_{ax}^{(2)} = \\frac{L b}{2} + \\frac{3 P}{4}$"
      ],
      "text/plain": [
       "<IPython.core.display.Math object>"
      ]
     },
     "execution_count": 54,
     "metadata": {},
     "output_type": "execute_result"
    }
   ],
   "source": [
    "imprimir(r\" f_{ax}^{(2)} = \", fax[2-1])"
   ]
  },
  {
   "cell_type": "code",
   "execution_count": 55,
   "id": "d75924b8-22d0-431c-9d66-afbf03db799b",
   "metadata": {},
   "outputs": [
    {
     "data": {
      "text/latex": [
       "$\\displaystyle  f_{ax}^{(3)} = P$"
      ],
      "text/plain": [
       "<IPython.core.display.Math object>"
      ]
     },
     "execution_count": 55,
     "metadata": {},
     "output_type": "execute_result"
    }
   ],
   "source": [
    "imprimir(r\" f_{ax}^{(3)} = \", fax[3-1])"
   ]
  }
 ],
 "metadata": {
  "kernelspec": {
   "display_name": "Python 3 (ipykernel)",
   "language": "python",
   "name": "python3"
  },
  "language_info": {
   "codemirror_mode": {
    "name": "ipython",
    "version": 3
   },
   "file_extension": ".py",
   "mimetype": "text/x-python",
   "name": "python",
   "nbconvert_exporter": "python",
   "pygments_lexer": "ipython3",
   "version": "3.10.9"
  }
 },
 "nbformat": 4,
 "nbformat_minor": 5
}
