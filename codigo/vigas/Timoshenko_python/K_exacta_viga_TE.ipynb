{
 "cells": [
  {
   "cell_type": "markdown",
   "id": "d09660f0",
   "metadata": {},
   "source": [
    "# Programa para deducir la matriz de rigidez de un elemento de viga de Timoshenko-Ehrenfest a partir de la solución de la ecuacion diferencial"
   ]
  },
  {
   "cell_type": "code",
   "execution_count": 1,
   "id": "3c3bee7f",
   "metadata": {},
   "outputs": [],
   "source": [
    "import sympy as sp\n",
    "from sympy import integrate, simplify\n",
    "\n",
    "# Para imprimir bonito\n",
    "sp.init_printing()\n",
    "\n",
    "from IPython.display import Math                 \n",
    "def imprimir (texto, variable, large=False):\n",
    "    if large:\n",
    "        return Math(texto + r'\\Large{' + rf'{sp.latex(variable)}' + '}')\n",
    "    else:\n",
    "        return Math(texto +  rf'{sp.latex(variable)}')"
   ]
  },
  {
   "cell_type": "code",
   "execution_count": 2,
   "id": "71f7206b",
   "metadata": {},
   "outputs": [],
   "source": [
    "# %%Definción de variables\n",
    "x, L, EI, beta = sp.symbols('x L EI beta')\n",
    "\n",
    "# Se definen las constantes de integración\n",
    "C1, C2, C3, C4 = sp.symbols('C_1, C_2, C_3, C_4')\n",
    "\n",
    "# Se define beta como beta = (12 * EI)/(L**2 * GAast)\n",
    "GAast = (12 * EI)/(L**2 * beta)\n",
    "\n",
    "# Se define la carga: hace la ecuación diferencial homogénea\n",
    "q = 0"
   ]
  },
  {
   "cell_type": "markdown",
   "id": "b4967e01",
   "metadata": {},
   "source": [
    "## Cálculo de la matriz de rigidez $\\boldsymbol{K}_{TE}$\n",
    "\n",
    "### Método 1"
   ]
  },
  {
   "cell_type": "code",
   "execution_count": 3,
   "id": "3b19496f",
   "metadata": {},
   "outputs": [
    {
     "data": {
      "text/latex": [
       "$\\displaystyle K_{TE} = \\frac{E I}{(1 + \\beta) L^3}\\left[\\begin{matrix}12 & 6 L & -12 & 6 L\\\\6 L & L^{2} \\left(\\beta + 4\\right) & - 6 L & L^{2} \\cdot \\left(2 - \\beta\\right)\\\\-12 & - 6 L & 12 & - 6 L\\\\6 L & L^{2} \\cdot \\left(2 - \\beta\\right) & - 6 L & L^{2} \\left(\\beta + 4\\right)\\end{matrix}\\right]$"
      ],
      "text/plain": [
       "<IPython.core.display.Math object>"
      ]
     },
     "execution_count": 3,
     "metadata": {},
     "output_type": "execute_result"
    }
   ],
   "source": [
    "# Se plantea la ecuación diferencial\n",
    "V = integrate(q, x)           + C1  # Ecuaciones calculadas con constantes.\n",
    "M = integrate(V, x)           + C2\n",
    "t = (integrate(M, x)          + C3)/EI\n",
    "w = integrate(t - V/GAast, x) + C4\n",
    "\n",
    "# Se calcula la matrix de rigidez\n",
    "K_TE = sp.zeros(4)\n",
    "for i in range(4):\n",
    "    sol = sp.solve([w.subs(x, 0) - int((i == 0)),  # Condiciones de frontera\n",
    "                    t.subs(x, 0) - int((i == 1)),\n",
    "                    w.subs(x, L) - int((i == 2)),\n",
    "                    t.subs(x, L) - int((i == 3))],\n",
    "                [C1, C2, C3, C4])\n",
    "\n",
    "    constantes = [(C1, sol[C1]), (C2, sol[C2]), (C3, sol[C3]), (C4, sol[C4])]\n",
    "\n",
    "    K_TE[:, i] = [+ (V.subs(constantes)).subs(x, 0),   # Y1  se evaluan las\n",
    "                  - (M.subs(constantes)).subs(x, 0),   # M1  reacciones verticales\n",
    "                  - (V.subs(constantes)).subs(x, L),   # Y2  y los momentos en los\n",
    "                  + (M.subs(constantes)).subs(x, L)]   # M2  apoyos\n",
    "\n",
    "# %%Se imprime la solución\n",
    "tmp = EI/((1 + beta)*L**3)\n",
    "imprimir(r'K_{TE} = \\frac{E I}{(1 + \\beta) L^3}', simplify(K_TE/tmp))"
   ]
  },
  {
   "cell_type": "markdown",
   "id": "1de433e0",
   "metadata": {},
   "source": [
    "### Método 2"
   ]
  },
  {
   "cell_type": "code",
   "execution_count": 4,
   "id": "9896142c",
   "metadata": {
    "scrolled": true
   },
   "outputs": [
    {
     "data": {
      "text/latex": [
       "$\\displaystyle \\boldsymbol{K}_{TE} = \\frac{E I}{(1 + \\beta) L^3}\\left[\\begin{matrix}12 & 6 L & -12 & 6 L\\\\6 L & L^{2} \\left(\\beta + 4\\right) & - 6 L & L^{2} \\cdot \\left(2 - \\beta\\right)\\\\-12 & - 6 L & 12 & - 6 L\\\\6 L & L^{2} \\cdot \\left(2 - \\beta\\right) & - 6 L & L^{2} \\left(\\beta + 4\\right)\\end{matrix}\\right]$"
      ],
      "text/plain": [
       "<IPython.core.display.Math object>"
      ]
     },
     "execution_count": 4,
     "metadata": {},
     "output_type": "execute_result"
    }
   ],
   "source": [
    "V = sp.Function('V')(x)\n",
    "M = sp.Function('M')(x)\n",
    "t = sp.Function('theta')(x)\n",
    "w = sp.Function('w')(x)\n",
    "    \n",
    "# Se calcula la matrix de rigidez\n",
    "K_TE = sp.zeros(4)\n",
    "for i in range(4):\n",
    "    sol = sp.dsolve(eq=[  sp.diff(V,x) - 0,\n",
    "                          sp.diff(M,x) - V,\n",
    "                          sp.diff(t,x) - M/EI,\n",
    "                          sp.diff(w,x) - t + V/GAast   ],\n",
    "                    ics={ w.subs(x, 0): int((i == 0)),\n",
    "                          t.subs(x, 0): int((i == 1)),\n",
    "                          w.subs(x, L): int((i == 2)),\n",
    "                          t.subs(x, L): int((i == 3))  })\n",
    "    VV = sol[0].rhs\n",
    "    MM = sol[1].rhs\n",
    "    \n",
    "    K_TE[:, i] = [+ VV.subs(x, 0),   # Y1  se evaluan las\n",
    "                  - MM.subs(x, 0),   # M1  reacciones verticales\n",
    "                  - VV.subs(x, L),   # Y2  y los momentos en los\n",
    "                  + MM.subs(x, L)]   # M2  apoyos\n",
    "\n",
    "# %%Se imprime la solución\n",
    "tmp = EI/((1 + beta)*L**3)\n",
    "imprimir(r'\\boldsymbol{K}_{TE} = \\frac{E I}{(1 + \\beta) L^3}', simplify(K_TE/tmp))"
   ]
  },
  {
   "cell_type": "markdown",
   "id": "a4879cf3",
   "metadata": {},
   "source": [
    "## Cálculo de la matriz de rigidez de la teoría de Euler-Bernoulli $\\boldsymbol{K}_{EB}$\n",
    "Observe que cuando $GA^* \\to \\infty$ (o alternativamente $\\beta \\to 0$), la matriz de rigidez $\\boldsymbol{K}_{TE}$ se vuelve la misma matriz de rigidez $\\boldsymbol{K}_{EB}$ de la teoría de Euler-Bernoulli:"
   ]
  },
  {
   "cell_type": "code",
   "execution_count": 5,
   "id": "7e0efbfd",
   "metadata": {},
   "outputs": [
    {
     "data": {
      "text/latex": [
       "$\\displaystyle \\boldsymbol{K}_{EB} = \\frac{E I}{L^3}\\left[\\begin{matrix}12 & 6 L & -12 & 6 L\\\\6 L & 4 L^{2} & - 6 L & 2 L^{2}\\\\-12 & - 6 L & 12 & - 6 L\\\\6 L & 2 L^{2} & - 6 L & 4 L^{2}\\end{matrix}\\right]$"
      ],
      "text/plain": [
       "<IPython.core.display.Math object>"
      ]
     },
     "execution_count": 5,
     "metadata": {},
     "output_type": "execute_result"
    }
   ],
   "source": [
    "K_EB = K_TE.limit(beta, 0)\n",
    "\n",
    "# %%Se imprime la solución\n",
    "tmp = EI/(L**3)\n",
    "imprimir(r'\\boldsymbol{K}_{EB} = \\frac{E I}{L^3}', simplify(K_EB/tmp))"
   ]
  },
  {
   "cell_type": "markdown",
   "id": "928ee101",
   "metadata": {},
   "source": [
    "## Cálculo del vector de fuerzas nodales equivalentes"
   ]
  },
  {
   "cell_type": "code",
   "execution_count": 6,
   "id": "f510209a",
   "metadata": {},
   "outputs": [],
   "source": [
    "w1, w2 = sp.symbols('w_1 w_2')\n",
    "q = (w2 - w1)*x/L + w1\n",
    "\n",
    "# Se plantea la ecuación diferencial\n",
    "V = integrate(q, x)           + C1  # Ecuaciones calculadas con constantes.\n",
    "M = integrate(V, x)           + C2\n",
    "t = (integrate(M, x)          + C3)/EI\n",
    "w = integrate(t - V/GAast, x) + C4\n",
    "\n",
    "# Se calcula la matrix de rigidez\n",
    "sol = sp.solve([w.subs(x, 0),  # Condiciones de frontera\n",
    "                w.subs(x, L),\n",
    "                t.subs(x, 0),\n",
    "                t.subs(x, L)],\n",
    "                [C1, C2, C3, C4])\n",
    "\n",
    "constantes = [(C1, sol[C1]), (C2, sol[C2]), (C3, sol[C3]), (C4, sol[C4])]\n",
    "\n",
    "f_TE = sp.Matrix([-(V.subs(constantes)).subs(x, 0),   # Yi  se evaluan las reacciones verticales y los\n",
    "                  +(M.subs(constantes)).subs(x, 0),   # Mi  momentos en los apoyos y se les multiplica\n",
    "                  +(V.subs(constantes)).subs(x, L),   # Yj  por -1 para estimar la fuerza nodal \n",
    "                  -(M.subs(constantes)).subs(x, L)])  # Mj  equivalente"
   ]
  },
  {
   "cell_type": "code",
   "execution_count": 12,
   "id": "32fddccc",
   "metadata": {},
   "outputs": [
    {
     "data": {
      "text/latex": [
       "$\\displaystyle \\boldsymbol{f}_{TE} = \\left[\\begin{matrix}\\frac{L \\left(20 \\beta w_{1} + 10 \\beta w_{2} + 21 w_{1} + 9 w_{2}\\right)}{60 \\left(\\beta + 1\\right)}\\\\\\frac{L^{2} \\left(\\frac{\\beta w_{1}}{24} + \\frac{\\beta w_{2}}{24} + \\frac{w_{1}}{20} + \\frac{w_{2}}{30}\\right)}{\\beta + 1}\\\\\\frac{L \\left(10 \\beta w_{1} + 20 \\beta w_{2} + 9 w_{1} + 21 w_{2}\\right)}{60 \\left(\\beta + 1\\right)}\\\\\\frac{L^{2} \\left(- \\frac{\\beta w_{1}}{24} - \\frac{\\beta w_{2}}{24} - \\frac{w_{1}}{30} - \\frac{w_{2}}{20}\\right)}{\\beta + 1}\\end{matrix}\\right]$"
      ],
      "text/plain": [
       "<IPython.core.display.Math object>"
      ]
     },
     "execution_count": 12,
     "metadata": {},
     "output_type": "execute_result"
    }
   ],
   "source": [
    "imprimir(r'\\boldsymbol{f}_{TE} = ', simplify(f_TE))\n",
    "#sp.pprint(simplify(f_TE))"
   ]
  },
  {
   "cell_type": "code",
   "execution_count": 8,
   "id": "a0b8f14a",
   "metadata": {},
   "outputs": [
    {
     "data": {
      "text/latex": [
       "$\\displaystyle \\boldsymbol{f}_{EB} = \\left[\\begin{matrix}\\frac{L \\left(7 w_{1} + 3 w_{2}\\right)}{20}\\\\L^{2} \\left(\\frac{w_{1}}{20} + \\frac{w_{2}}{30}\\right)\\\\\\frac{L \\left(3 w_{1} + 7 w_{2}\\right)}{20}\\\\L^{2} \\left(- \\frac{w_{1}}{30} - \\frac{w_{2}}{20}\\right)\\end{matrix}\\right]$"
      ],
      "text/plain": [
       "<IPython.core.display.Math object>"
      ]
     },
     "execution_count": 8,
     "metadata": {},
     "output_type": "execute_result"
    }
   ],
   "source": [
    "f_EB = f_TE.limit(beta,0)\n",
    "imprimir(r'\\boldsymbol{f}_{EB} = ', simplify(f_EB))"
   ]
  }
 ],
 "metadata": {
  "kernelspec": {
   "display_name": "Python 3 (ipykernel)",
   "language": "python",
   "name": "python3"
  },
  "language_info": {
   "codemirror_mode": {
    "name": "ipython",
    "version": 3
   },
   "file_extension": ".py",
   "mimetype": "text/x-python",
   "name": "python",
   "nbconvert_exporter": "python",
   "pygments_lexer": "ipython3",
   "version": "3.10.4"
  }
 },
 "nbformat": 4,
 "nbformat_minor": 5
}
