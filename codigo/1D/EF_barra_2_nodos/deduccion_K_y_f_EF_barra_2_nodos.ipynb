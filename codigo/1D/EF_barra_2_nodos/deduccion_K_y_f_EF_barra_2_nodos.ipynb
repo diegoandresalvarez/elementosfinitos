{
 "cells": [
  {
   "cell_type": "markdown",
   "id": "baa16fa3",
   "metadata": {},
   "source": [
    "# Cálculo de $\\boldsymbol{K}^{(e)}$ y $\\boldsymbol{f}^{(e)}$ mediante el PTV y funciones de forma locales."
   ]
  },
  {
   "cell_type": "markdown",
   "id": "74d63831",
   "metadata": {},
   "source": [
    "| Nombre | Correo | Fecha |\n",
    "| --- | --- | --- |\n",
    "| Andrés Cardona Serna | acardonase@unal.edu.co | 8 de septiembre de 2023 |"
   ]
  },
  {
   "cell_type": "markdown",
   "id": "90198056",
   "metadata": {},
   "source": [
    "## Problema."
   ]
  },
  {
   "cell_type": "markdown",
   "id": "6d784f3b",
   "metadata": {},
   "source": [
    "Considere el elemento finito #$e$ (con dos nodos) de una barra unidimensional. Tiene área transversal constante $ A^{(e)} $, módulo de elasticidad constante $ E^{(e)} $ y está sometido a una carga distribuida constante $ b^{(e)} $.\n",
    "  \n",
    "--- \n",
    "A continuación se utilizará la ecuación que se dedujo con funciones de forma locales a partir del Principio del Trabajo Virtual en 1D\n",
    "\n",
    "$$ \\underbrace{ \\int_{x_{1}^{(e)}}^{x_{2}^{(e)}}  \\boldsymbol{B}^{T}_{(e)}(x)  \\boldsymbol{D}^{(e)}(x)  \\boldsymbol{B}^{(e)}(x)                 \\ dx }_{ \\boldsymbol{K}^{(e)} }   \\  \\boldsymbol{a}^{(e)}  -  \n",
    "                \\underbrace{ \\int_{x_{1}^{(e)}}^{x_{2}^{(e)}}  \\boldsymbol{N}^{T}_{(e)}(x)  \\ b^{(e)}(x) \n",
    "                \\ dx }_{ \\boldsymbol{f}^{(e)} }  \n",
    "              = \\boldsymbol{q}^{(e)}  $$\n",
    "\n",
    "para hallar la matriz de rigidez local $\\boldsymbol{K}^{(e)}$ y el vector de fuerzas nodales equivalentes $\\boldsymbol{f}^{(e)}$. Al final se observará que se obtienen los mismos resultados que los que se obtuvieron mediante ecuaciones de equilibrio.\n",
    "\n"
   ]
  },
  {
   "cell_type": "markdown",
   "id": "7c9a3c82",
   "metadata": {},
   "source": [
    "## Cálculo de $\\boldsymbol{K}^{(e)}$ y $\\boldsymbol{f}^{(e)}$."
   ]
  },
  {
   "cell_type": "code",
   "execution_count": 27,
   "id": "d4160fd8",
   "metadata": {},
   "outputs": [],
   "source": [
    "import sympy as sp                        # Librería de cálculo simbólico\n",
    "from sympy.matrices import Matrix         # Para definir matrices\n",
    "\n",
    "# Para imprimir bonito\n",
    "sp.init_printing()                     \n",
    "from IPython.display import Math               \n",
    "def imprimir (texto, variable):\n",
    "    return Math(texto +  rf'{sp.latex(variable)}')"
   ]
  },
  {
   "cell_type": "markdown",
   "id": "bc0cd1d6",
   "metadata": {},
   "source": [
    "Se definen las variables simbólicas necesarias\n",
    "- $ x           \\hspace{0.525cm} : $ Coordenada arbitraria de un punto de la barra.  \n",
    "- $ x_{1}^{(e)} \\hspace{0.125cm} : $ Coordenada del nodo local 1.  \n",
    "- $ x_{2}^{(e)} \\hspace{0.125cm} : $ Coordenada del nodo local 2.\n",
    "- $ E^{(e)}                      : $ Módulo de elasticidad constante de la barra #$e$ en la posición x.\n",
    "- $ A^{(e)}     \\hspace{0.025cm} : $ Área transversal constante de la barra #$e$ en la posición x.\n",
    "- $ L^{(e)}     \\hspace{0.05cm}  : $ Longitud de la barra #$e$.\n",
    "- $ b^{(e)}     \\hspace{0.15cm}  : $ Carga distribuida variable.\n",
    "\n",
    "Por simplicidad, en el código se omitirán los \"$(e)$\" de las variables:"
   ]
  },
  {
   "cell_type": "code",
   "execution_count": 28,
   "id": "961a880e",
   "metadata": {},
   "outputs": [],
   "source": [
    "x, x1, x2, E, A, L, b = sp.symbols('x x1 x2 E A L b')"
   ]
  },
  {
   "cell_type": "markdown",
   "id": "d462e0d3",
   "metadata": {},
   "source": [
    "Se definen las funciones de forma locales\n",
    "$$ N^{(e)}_{1}(x) = \\frac{ x_{2}^{(e)} - x }{L^{(e)}} $$\n",
    "$$ N^{(e)}_{2}(x) = \\frac{ x - x_{1}^{(e)} }{L^{(e)}}.$$\n",
    "teniendo en cuenta que $ L^{(e)} = x_{2}^{(e)} - x_{1}^{(e)} $:"
   ]
  },
  {
   "cell_type": "code",
   "execution_count": 29,
   "id": "af009587",
   "metadata": {},
   "outputs": [],
   "source": [
    "x2 = x1 + L                 # Se define así para evitar que L se visualice como x2-x1\n",
    "\n",
    "N1 = (x2-x)/L\n",
    "N2 = (x-x1)/L"
   ]
  },
  {
   "cell_type": "markdown",
   "id": "e7626997",
   "metadata": {},
   "source": [
    "Se definen las matrices necesarias:\n",
    "\n",
    "- Matriz de funciones de forma (locales) de la barra #$e$: \n",
    "$$ \\boldsymbol{N}^{(e)}(x) = \\begin{bmatrix}  N^{(e)}_{1}(x) &  N^{(e)}_{2}(x)  \\end{bmatrix} $$  \n",
    "\n",
    "- Matriz de deformaciones de la barra #$e$: \n",
    "$$ \\boldsymbol{B}^{(e)}(x) = \\begin{bmatrix}  \\frac{d N^{(e)}_{1}(x)}{dx}  &  \\frac{d N^{(e)}_{2}(x)}{dx}  \\end{bmatrix} $$\n",
    "\n",
    "- Matriz constitutiva de la barra #$e$:  \n",
    "$ \\hspace{9.4cm} \\boldsymbol{D}^{(e)}(x) = E^{(e)}(x) \\hspace{0.1cm} A^{(e)}(x) = E^{(e)} A^{(e)} \\hspace{1cm} $    (ya que $E$ y $A$ son constantes)"
   ]
  },
  {
   "cell_type": "code",
   "execution_count": 30,
   "id": "261ea747",
   "metadata": {},
   "outputs": [],
   "source": [
    "N = Matrix([[N1, N2]])                        \n",
    "B = Matrix([[sp.diff(N1,x), sp.diff(N2,x)]])        # B = [derivada de N1 respecto a x, derivada de N2 respecto a x]\n",
    "D = E*A                                       "
   ]
  },
  {
   "cell_type": "markdown",
   "id": "e0394506",
   "metadata": {},
   "source": [
    "Se calcula la matriz de rigidez local de la barra #$e$ mediante la siguiente ecuación:\n",
    "\n",
    "$$ \\boldsymbol{K}^{(e)} = \\int_{x_{1}^{(e)}}^{x_{2}^{(e)}}  \\boldsymbol{B}^{T}_{(e)}(x) \\ \\boldsymbol{D}^{(e)}(x) \\                                                                         \\boldsymbol{B}^{(e)}(x)  \\  dx                          $$\n"
   ]
  },
  {
   "cell_type": "code",
   "execution_count": 31,
   "id": "370ff8d9",
   "metadata": {},
   "outputs": [
    {
     "data": {
      "text/latex": [
       "$\\displaystyle  \\boldsymbol{K}^{(e)} = \\left[\\begin{matrix}\\frac{A E}{L} & - \\frac{A E}{L}\\\\- \\frac{A E}{L} & \\frac{A E}{L}\\end{matrix}\\right]$"
      ],
      "text/plain": [
       "<IPython.core.display.Math object>"
      ]
     },
     "execution_count": 31,
     "metadata": {},
     "output_type": "execute_result"
    }
   ],
   "source": [
    "K = sp.simplify(sp.integrate(B.T*D*B, (x, x1, x2)))           # Integral de (B^T * D * B) con respecto a x, desde x1 hasta x2\n",
    "\n",
    "imprimir(r\" \\boldsymbol{K}^{(e)} = \", K)"
   ]
  },
  {
   "cell_type": "markdown",
   "id": "2fab8423",
   "metadata": {},
   "source": [
    "Se calcula el vector de fuerzas nodales equivalentes la barra #$e$ mediante la siguiente ecuación:\n",
    "\n",
    "$ \\hspace{8cm} \\boldsymbol{f}^{(e)} = \\int_{x_{1}^{(e)}}^{x_{2}^{(e)}}  \\boldsymbol{N}^{T}_{(e)}(x) \\ b^{(e)}(x) \\ dx = \\int_{x_{1}^{(e)}}^{x_{2}^{(e)}}  \\boldsymbol{N}^{T}_{(e)}(x) \\ b^{(e)} \\ dx  \\hspace{1cm} $   (ya que $b^{(e)}$ es constante)"
   ]
  },
  {
   "cell_type": "code",
   "execution_count": 19,
   "id": "04feed21",
   "metadata": {},
   "outputs": [
    {
     "data": {
      "text/latex": [
       "$\\displaystyle  \\boldsymbol{f}^{(e)} = \\left[\\begin{matrix}\\frac{L b}{2}\\\\\\frac{L b}{2}\\end{matrix}\\right]$"
      ],
      "text/plain": [
       "<IPython.core.display.Math object>"
      ]
     },
     "execution_count": 19,
     "metadata": {},
     "output_type": "execute_result"
    }
   ],
   "source": [
    "f = sp.simplify(sp.integrate(N.T*b, (x, x1, x2)))             # Integral de (N^T * b) con respecto a x, desde x1 hasta x2\n",
    "\n",
    "imprimir(r\" \\boldsymbol{f}^{(e)} = \", f)"
   ]
  },
  {
   "cell_type": "markdown",
   "id": "1be1e53d",
   "metadata": {},
   "source": [
    "---\n",
    "En efecto, son los mismos resultados que los obtenidos mediante ecuaciones de equilibrio."
   ]
  }
 ],
 "metadata": {
  "kernelspec": {
   "display_name": "Python 3 (ipykernel)",
   "language": "python",
   "name": "python3"
  },
  "language_info": {
   "codemirror_mode": {
    "name": "ipython",
    "version": 3
   },
   "file_extension": ".py",
   "mimetype": "text/x-python",
   "name": "python",
   "nbconvert_exporter": "python",
   "pygments_lexer": "ipython3",
   "version": "3.10.9"
  }
 },
 "nbformat": 4,
 "nbformat_minor": 5
}
