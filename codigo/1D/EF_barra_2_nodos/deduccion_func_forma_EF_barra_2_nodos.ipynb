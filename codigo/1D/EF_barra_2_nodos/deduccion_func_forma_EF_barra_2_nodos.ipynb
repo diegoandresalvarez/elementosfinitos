{
 "cells": [
  {
   "cell_type": "markdown",
   "id": "f0f17651",
   "metadata": {},
   "source": [
    "# Deducción de las funciones de forma locales del EF de barra de dos nodos."
   ]
  },
  {
   "cell_type": "markdown",
   "id": "a5b4a187",
   "metadata": {},
   "source": [
    "| Nombre | Correo | Fecha |\n",
    "| --- | --- | --- |\n",
    "| Andrés Cardona Serna | acardonase@unal.edu.co | 8 de septiembre de 2023 |"
   ]
  },
  {
   "cell_type": "markdown",
   "id": "677e0c53",
   "metadata": {},
   "source": [
    "## Problema."
   ]
  },
  {
   "cell_type": "markdown",
   "id": "06885476",
   "metadata": {},
   "source": [
    "Considere el elemento finito #$e$ (con dos nodos) de una barra unidimensional. Los desplazamientos en el nodo local $1$ y nodo local $2$ del EF, son:\n",
    "- $ u^{(e)}(x_{1}^{(e)}) = u_{1}^{(e)} $  \n",
    "  \n",
    "- $ u^{(e)}(x_{2}^{(e)}) = u_{2}^{(e)} $  \n",
    "  \n",
    "La función de desplazamiento $u^{(e)}(x)$ en cada punto del EF #$e$, se puede aproximar como un segmento de recta, así:"
   ]
  },
  {
   "cell_type": "markdown",
   "id": "907ca9ba",
   "metadata": {},
   "source": [
    "<center><img src=\"Desplazamiento_en_dos_nodos.jpeg\" style=\"height: 250px; width:337.5px;\"/></center>  \n",
    "para valores de $x$ entre $x_{1}^{(e)}$ y $x_{2}^{(e)}$."
   ]
  },
  {
   "cell_type": "markdown",
   "id": "3c31ab69",
   "metadata": {},
   "source": [
    "---"
   ]
  },
  {
   "cell_type": "markdown",
   "id": "131ad240",
   "metadata": {},
   "source": [
    "Mediante siguiente código, el desplazamiento $u^{(e)}(x)$ pasará de expresarse como una línea recta  \n",
    "\n",
    "$$ u^{(e)}(x) = a_{1} x + a_{0} $$  \n",
    "\n",
    "a expresarse como una combinación lineal de las funciones de forma locales $ N^{(e)}_{1}(x) $ y $ N^{(e)}_{2}(x) $:  \n",
    "\n",
    "$$ u^{(e)}(x) = N^{(e)}_{1}(x) \\hspace{0.2cm} u_{1}^{(e)} + N^{(e)}_{2}(x) \\hspace{0.2cm} u_{2}^{(e)}. $$  \n",
    "   \n",
    "Adicionalmente, lo anterior servirá para hallar explícitamente estas funciones de forma locales $ N^{(e)}_{1}(x) $ y $ N^{(e)}_{2}(x) $."
   ]
  },
  {
   "cell_type": "markdown",
   "id": "d79e9d4e",
   "metadata": {},
   "source": [
    "## Deducción."
   ]
  },
  {
   "cell_type": "code",
   "execution_count": 1,
   "id": "5fe924be",
   "metadata": {},
   "outputs": [],
   "source": [
    "# Librería de cálculo simbólico\n",
    "import sympy as sp\n",
    "\n",
    "# Para imprimir bonito\n",
    "sp.init_printing() \n",
    "from IPython.display import Math               \n",
    "def imprimir (texto, variable):\n",
    "    return Math(texto +  rf'{sp.latex(variable)}')"
   ]
  },
  {
   "cell_type": "markdown",
   "id": "aca05c06",
   "metadata": {},
   "source": [
    "Se definen las variables simbólicas necesarias:\n",
    "- $ u_{1}^{(e)} \\hspace{0.05cm} : $ Desplazamiento nodal en el nodo local $1$ del EF #$e$. \n",
    "- $ u_{2}^{(e)} \\hspace{0.05cm} : $ Desplazamiento nodal en el nodo local $2$ del EF #$e$.  \n",
    "- $ x \\hspace{0.4cm} : $ Coordenada arbitraria de un punto de la barra.\n",
    "- $ x_{1}^{(e)}: $ Coordenada del nodo local 1.\n",
    "- $ x_{2}^{(e)}: $ Coordenada del nodo local 2.\n",
    "- $a_{1}$, $a_{0}: $ Coeficientes de la recta.\n",
    "\n",
    "Por simplicidad, en el código se omitirán los \"$(e)$\" de las variables."
   ]
  },
  {
   "cell_type": "code",
   "execution_count": 2,
   "id": "d0c46ff5",
   "metadata": {},
   "outputs": [],
   "source": [
    "u1, u2, x, x1, x2, a1, a0 = sp.symbols('u1 u2 x x1 x2 a1 a0')"
   ]
  },
  {
   "cell_type": "markdown",
   "id": "44d2065d",
   "metadata": {},
   "source": [
    "Se evalúa la recta $ u^{(e)}(x) $ en los puntos $x_{1}^{(e)}$  y $x_{2}^{(e)}$:  \n",
    "$$ u^{(e)}(x_{1}^{(e)}) = u_{1}^{(e)} = a_{1} x_{1}^{(e)} + a_{0} $$  \n",
    "\n",
    "$$ u^{(e)}(x_{2}^{(e)}) = u_{2}^{(e)} = a_{1} x_{2}^{(e)} + a_{0} $$  \n",
    "y se despejan $a_{1}$ y $a_{0}$ de estas dos ecuaciones:"
   ]
  },
  {
   "cell_type": "code",
   "execution_count": 3,
   "id": "6a985c06",
   "metadata": {},
   "outputs": [],
   "source": [
    "# a1 y a0 se almacenarán en un diccionario definido como \"r\"\n",
    "\n",
    "r = sp.solve((sp.Eq(u1, a1*x1 + a0),       # u1 = a1*x1 + a0\n",
    "              sp.Eq(u2, a1*x2 + a0)),      # u2 = a1*x2 + a0\n",
    "             (a1, a0))                     # a1 y a0 son las variables que se quieren despejar"
   ]
  },
  {
   "cell_type": "code",
   "execution_count": 4,
   "id": "dad34cbc",
   "metadata": {},
   "outputs": [
    {
     "data": {
      "text/latex": [
       "$\\displaystyle a_{1} = \\frac{u_{1} - u_{2}}{x_{1} - x_{2}}$"
      ],
      "text/plain": [
       "<IPython.core.display.Math object>"
      ]
     },
     "execution_count": 4,
     "metadata": {},
     "output_type": "execute_result"
    }
   ],
   "source": [
    "imprimir(r\"a_{1} = \", r[a1])     # Se extrae el valor de a1, que está almacenado en el diccionario \"r\""
   ]
  },
  {
   "cell_type": "code",
   "execution_count": 5,
   "id": "8cbb6606",
   "metadata": {},
   "outputs": [
    {
     "data": {
      "text/latex": [
       "$\\displaystyle a_{0} = \\frac{- u_{1} x_{2} + u_{2} x_{1}}{x_{1} - x_{2}}$"
      ],
      "text/plain": [
       "<IPython.core.display.Math object>"
      ]
     },
     "execution_count": 5,
     "metadata": {},
     "output_type": "execute_result"
    }
   ],
   "source": [
    "imprimir(r\"a_{0} = \", r[a0])     # Se extrae el valor de a0, que está almacenado en el diccionario \"r\""
   ]
  },
  {
   "cell_type": "markdown",
   "id": "9dad749f",
   "metadata": {},
   "source": [
    "Se define la recta $ u^{(e)}(x) = a_{1} x + a_{0} $ reemplazando los valores de $a_{1}$ y $a_{0}$ hallados:"
   ]
  },
  {
   "cell_type": "code",
   "execution_count": 6,
   "id": "73651fd5",
   "metadata": {},
   "outputs": [
    {
     "data": {
      "text/latex": [
       "$\\displaystyle u^{(e)}(x) = \\frac{u_{1} x}{x_{1} - x_{2}} - \\frac{u_{1} x_{2}}{x_{1} - x_{2}} - \\frac{u_{2} x}{x_{1} - x_{2}} + \\frac{u_{2} x_{1}}{x_{1} - x_{2}}$"
      ],
      "text/plain": [
       "<IPython.core.display.Math object>"
      ]
     },
     "execution_count": 6,
     "metadata": {},
     "output_type": "execute_result"
    }
   ],
   "source": [
    "u = sp.expand(r[a1]*x + r[a0])      # El comando sp.expand() \"rompe\" los paréntesis.\n",
    "\n",
    "imprimir(r\"u^{(e)}(x) = \", u)"
   ]
  },
  {
   "cell_type": "markdown",
   "id": "13ec06aa",
   "metadata": {},
   "source": [
    "Se agrupan los términos que tienen $u_{1}$ y los que tienen $u_{2}$:"
   ]
  },
  {
   "cell_type": "code",
   "execution_count": 7,
   "id": "96d05590",
   "metadata": {},
   "outputs": [
    {
     "data": {
      "text/latex": [
       "$\\displaystyle  u^{(e)}(x) = u_{1} \\left(\\frac{x}{x_{1} - x_{2}} - \\frac{x_{2}}{x_{1} - x_{2}}\\right) + u_{2} \\left(- \\frac{x}{x_{1} - x_{2}} + \\frac{x_{1}}{x_{1} - x_{2}}\\right)$"
      ],
      "text/plain": [
       "<IPython.core.display.Math object>"
      ]
     },
     "execution_count": 7,
     "metadata": {},
     "output_type": "execute_result"
    }
   ],
   "source": [
    "u = sp.collect(u, (u1,u2))          # Se toma la función u, y se agrupan los términos que tienen u1 y que tienen u2\n",
    "\n",
    "imprimir(r\" u^{(e)}(x) = \", u)        "
   ]
  },
  {
   "cell_type": "markdown",
   "id": "e93ec018",
   "metadata": {},
   "source": [
    "Vemos que ahora $ u^{(e)}(x) $ se asemeja a la expresión \n",
    "$$ u^{(e)}(x) = N^{(e)}_{1}(x) \\hspace{0.2cm} u_{1}^{(e)} + N^{(e)}_{2}(x) \\hspace{0.2cm} u_{2}^{(e)},  $$\n",
    "\n",
    "donde\n",
    "$$ N^{(e)}_{1}(x) =  \\frac{ x }{ x_{1}^{(e)} - x_{2}^{(e)} } - \\frac{ x_{2}^{(e)} }{ x_{1}^{(e)} - x_{2}^{(e)} }  $$\n",
    "$$ N^{(e)}_{2}(x) = -\\frac{ x }{ x_{1}^{(e)} - x_{2}^{(e)} } + \\frac{ x_{1}^{(e)} }{ x_{1}^{(e)} - x_{2}^{(e)} }  $$\n"
   ]
  },
  {
   "cell_type": "markdown",
   "id": "ad8666c3",
   "metadata": {},
   "source": [
    "---"
   ]
  },
  {
   "cell_type": "markdown",
   "id": "3d7a9550",
   "metadata": {},
   "source": [
    "Se factorizan las expresiones halladas para $ N^{(e)}_{1}(x) $ y $ N^{(e)}_{2}(x) $:"
   ]
  },
  {
   "cell_type": "code",
   "execution_count": 8,
   "id": "9a924cf2",
   "metadata": {},
   "outputs": [
    {
     "data": {
      "text/latex": [
       "$\\displaystyle  N^{(e)}_{1}(x) = \\frac{x - x_{2}}{x_{1} - x_{2}}$"
      ],
      "text/plain": [
       "<IPython.core.display.Math object>"
      ]
     },
     "execution_count": 8,
     "metadata": {},
     "output_type": "execute_result"
    }
   ],
   "source": [
    "N1 = sp.factor( x/(x1-x2) - x2/(x1-x2) )\n",
    "\n",
    "imprimir(r\" N^{(e)}_{1}(x) = \", N1)"
   ]
  },
  {
   "cell_type": "code",
   "execution_count": 9,
   "id": "3862a28e",
   "metadata": {},
   "outputs": [
    {
     "data": {
      "text/latex": [
       "$\\displaystyle  N^{(e)}_{2}(x) = - \\frac{x - x_{1}}{x_{1} - x_{2}}$"
      ],
      "text/plain": [
       "<IPython.core.display.Math object>"
      ]
     },
     "execution_count": 9,
     "metadata": {},
     "output_type": "execute_result"
    }
   ],
   "source": [
    "N2 = sp.factor( -x/(x1-x2) + x1/(x1-x2) )\n",
    "imprimir(r\" N^{(e)}_{2}(x) = \", N2)"
   ]
  },
  {
   "cell_type": "markdown",
   "id": "cbb02efb",
   "metadata": {},
   "source": [
    "Estos resultados se puede reorganizar como  \n",
    "\n",
    "$$ N^{(e)}_{1}(x) =  \\frac{ x - x_{2}^{(e)} }{ x_{1}^{(e)} - x_{2}^{(e)} }\n",
    "                  =  \\frac{ x_{2}^{(e)} - x }{ x_{2}^{(e)} - x_{1}^{(e)} } $$\n",
    "                  \n",
    "$$ N^{(e)}_{2}(x) = -\\frac{ x - x_{1}^{(e)} }{ x_{1}^{(e)} - x_{2}^{(e)} } \n",
    "                  =  \\frac{ x - x_{1}^{(e)} }{ x_{2}^{(e)} - x_{1}^{(e)} }.$$\n",
    "  \n",
    "Y ya que la longitud de el EF #$e$ está dada por $ L^{(e)} = x_{2}^{(e)} - x_{1}^{(e)} $, se obtienen\n",
    "\n",
    "$$ N^{(e)}_{1}(x) = \\frac{ x_{2}^{(e)} - x }{L^{(e)}} $$\n",
    "$$ N^{(e)}_{2}(x) = \\frac{ x - x_{1}^{(e)} }{L^{(e)}}.$$"
   ]
  },
  {
   "cell_type": "markdown",
   "id": "df06fb38",
   "metadata": {},
   "source": [
    "---\n",
    "Se encontraron entonces las funciones de forma locales. De las expresiones halladas, se deduce que solo se necesitan las coordenadas de los nodos locales del EF para plantearlas."
   ]
  }
 ],
 "metadata": {
  "kernelspec": {
   "display_name": "Python 3 (ipykernel)",
   "language": "python",
   "name": "python3"
  },
  "language_info": {
   "codemirror_mode": {
    "name": "ipython",
    "version": 3
   },
   "file_extension": ".py",
   "mimetype": "text/x-python",
   "name": "python",
   "nbconvert_exporter": "python",
   "pygments_lexer": "ipython3",
   "version": "3.10.9"
  }
 },
 "nbformat": 4,
 "nbformat_minor": 5
}
